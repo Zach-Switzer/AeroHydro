{
 "cells": [
  {
   "cell_type": "code",
   "execution_count": 1,
   "metadata": {},
   "outputs": [],
   "source": [
    "import numpy\n",
    "import math\n",
    "import os\n",
    "from scipy import integrate\n",
    "from matplotlib import pyplot\n",
    "%matplotlib inline"
   ]
  },
  {
   "cell_type": "code",
   "execution_count": 6,
   "metadata": {},
   "outputs": [
    {
     "data": {
      "image/png": "[encoded data removed]",
      "text/plain": [
       "<Figure size 720x720 with 1 Axes>"
      ]
     },
     "metadata": {},
     "output_type": "display_data"
    }
   ],
   "source": [
    "# import the naca airfoil\n",
    "naca_filepath = os.path.join('naca0012.dat')\n",
    "# we did this so that you can use this file on windows or linux\n",
    "with open (naca_filepath, 'r') as file_name:\n",
    "    x,y = numpy.loadtxt(file_name, dtype=float, delimiter='\\t', unpack=True)\n",
    "    \n",
    "# plot it up\n",
    "width = 10\n",
    "pyplot.figure(figsize=(width, width))\n",
    "pyplot.grid()\n",
    "pyplot.xlabel('x', fontsize=16)\n",
    "pyplot.ylabel('y', fontsize=16)\n",
    "pyplot.plot(x, y, color='k', linestyle='-', linewidth=2)\n",
    "pyplot.axis('scaled', adjustable='box')\n",
    "pyplot.xlim(-0.1, 1.1)\n",
    "pyplot.ylim(-0.1, 0.1);"
   ]
  },
  {
   "cell_type": "code",
   "execution_count": 8,
   "metadata": {},
   "outputs": [],
   "source": [
    "# define the panel class slightly differently\n",
    "\n",
    "class Panel:\n",
    "    def __init__(self, xa, ya, xb, yb):\n",
    "        self.xa, self.ya = xa, ya\n",
    "        self.xb, self.yb = xb, xa\n",
    "        \n",
    "        self.xc, self.yc = (xa +xb)/2, (ya +yb)/2\n",
    "        self.length  = math.sqrt((xb-xa)**2+(yb-ya)**2)\n",
    "        \n",
    "        # orientation of the panel\n",
    "        if xb - xa <= 0.0:\n",
    "            self.beta = math.acos((yb-ya)/self.length)\n",
    "        elif xb - xa > 0.0:\n",
    "            self.beta = math.pi + math.acos(-(yb-ya)/self.length)\n",
    "        \n",
    "        # location of the panel\n",
    "        if self.beta <= math.pi:\n",
    "            self.loc = 'upper'\n",
    "        else:\n",
    "            self.loc = 'lower'\n",
    "        \n",
    "        self.sigma = 0.0 # source strength\n",
    "        self.vt = 0.0 # tangential velocity\n",
    "        self.cp = 0.0 # pressure coefficient"
   ]
  },
  {
   "cell_type": "code",
   "execution_count": null,
   "metadata": {},
   "outputs": [],
   "source": [
    "# we want to get uneven panel distribution along the airfoil surface \n",
    "# so use a circle whos diameter is the airfoil's chord length\n",
    "\n",
    "def define_panels(x,y,N=40):\n",
    "    # define the circle and its coordinates\n",
    "    R = (x.max() - x.min())/2\n",
    "    x_center = (x.max()+x.min())/2\n",
    "    x_circle = x_center + R*numpy.cos(numpy.linspace(0.0, 2*math.pi, N+1))\n",
    "    "
   ]
  }
 ],
 "metadata": {
  "kernelspec": {
   "display_name": "Python 3",
   "language": "python",
   "name": "python3"
  },
  "language_info": {
   "codemirror_mode": {
    "name": "ipython",
    "version": 3
   },
   "file_extension": ".py",
   "mimetype": "text/x-python",
   "name": "python",
   "nbconvert_exporter": "python",
   "pygments_lexer": "ipython3",
   "version": "3.6.2"
  }
 },
 "nbformat": 4,
 "nbformat_minor": 2
}
