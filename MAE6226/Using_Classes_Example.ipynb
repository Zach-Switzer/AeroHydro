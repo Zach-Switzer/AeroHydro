{
 "cells": [
  {
   "cell_type": "code",
   "execution_count": 2,
   "metadata": {},
   "outputs": [],
   "source": [
    "import numpy\n",
    "import math\n",
    "from matplotlib import pyplot\n",
    "%matplotlib inline"
   ]
  },
  {
   "cell_type": "code",
   "execution_count": 23,
   "metadata": {},
   "outputs": [],
   "source": [
    "class Source:\n",
    "    def __init__(self, sigma, xs, ys):\n",
    "        self.sigma=sigma\n",
    "        self.xs=xs\n",
    "        self.ys=ys\n",
    "        \n",
    "    def streamfunction(self, x, y):\n",
    "        psi=self.sigma/(2*math.pi)*numpy.arctan2(y-self.ys, x-self.xs)\n",
    "        \n",
    "        return psi\n",
    "    \n",
    "    '''    def other_streamfunction(self, x, y):\n",
    "        import zach\n",
    "        psi=zach.old_stream(self.sigma/(2*math.pi)*numpy.arctan2(y-self.ys, x-self.xs))'''\n",
    "    \n",
    "    def velocity(self, x, y):\n",
    "        u=(self.sigma)/(2*math.pi)*(x - self.xs) / ((x - self.xs)**2 + (y - self.ys)**2)\n",
    "        v=(self.sigma)/(2*math.pi)*(y - self.ys) / ((x - self.xs)**2 + (y - self.ys)**2)\n",
    "        \n",
    "        return u,v"
   ]
  },
  {
   "cell_type": "code",
   "execution_count": 24,
   "metadata": {},
   "outputs": [
    {
     "name": "stdout",
     "output_type": "stream",
     "text": [
      "<class '__main__.Source'>\n",
      "5.0\n",
      "0.659577123916655\n",
      "0.659577123916655\n"
     ]
    }
   ],
   "source": [
    "s1=Source(5.0, 0.0, 1.0)\n",
    "print(type(s1))\n",
    "print(s1.sigma)\n",
    "\n",
    "x,y=1.1,2.2\n",
    "psi=s1.streamfunction(x,y) # how we call things in python\n",
    "print(psi)\n",
    "psi=Source.streamfunction(s1,x,y) # how the computer sees it\n",
    "print(psi)"
   ]
  },
  {
   "cell_type": "code",
   "execution_count": 25,
   "metadata": {},
   "outputs": [
    {
     "name": "stdout",
     "output_type": "stream",
     "text": [
      "60.0\n",
      "60.0\n"
     ]
    }
   ],
   "source": [
    "# another example of hwo you can write things differently\n",
    "a=numpy.linspace(0.0, 10.0, num=12)\n",
    "print(numpy.sum(a))\n",
    "print(a.sum())\n",
    "\n",
    "# we get access to the attributes with the dot (.) operation"
   ]
  },
  {
   "cell_type": "code",
   "execution_count": 27,
   "metadata": {},
   "outputs": [
    {
     "name": "stdout",
     "output_type": "stream",
     "text": [
      "0.3303215800020469\n",
      "0.3603508145476876\n"
     ]
    }
   ],
   "source": [
    "u,v=s1.velocity(x,y)\n",
    "print(str(u)+'\\n'+str(v))"
   ]
  },
  {
   "cell_type": "code",
   "execution_count": 28,
   "metadata": {},
   "outputs": [],
   "source": [
    "# can also do:\n",
    "class Source:\n",
    "    def __init__(self, sigma=1.0, xs=0.0, ys=0.1):\n",
    "        self.sigma=sigma\n",
    "        self.xs=xs\n",
    "        self.ys=ys\n",
    "        \n",
    "    def streamfunction(self, x, y):\n",
    "        psi=self.sigma/(2*math.pi)*numpy.arctan2(y-self.ys, x-self.xs)\n",
    "        \n",
    "        return psi\n",
    "    \n",
    "    '''    def other_streamfunction(self, x, y):\n",
    "        import zach\n",
    "        psi=zach.old_stream(self.sigma/(2*math.pi)*numpy.arctan2(y-self.ys, x-self.xs))'''\n",
    "    \n",
    "    def velocity(self, x, y):\n",
    "        u=(self.sigma)/(2*math.pi)*(x - self.xs) / ((x - self.xs)**2 + (y - self.ys)**2)\n",
    "        v=(self.sigma)/(2*math.pi)*(y - self.ys) / ((x - self.xs)**2 + (y - self.ys)**2)\n",
    "        \n",
    "        return u,v"
   ]
  },
  {
   "cell_type": "code",
   "execution_count": 29,
   "metadata": {},
   "outputs": [],
   "source": [
    "s1=Source()"
   ]
  },
  {
   "cell_type": "code",
   "execution_count": null,
   "metadata": {},
   "outputs": [],
   "source": []
  }
 ],
 "metadata": {
  "kernelspec": {
   "display_name": "Python 3",
   "language": "python",
   "name": "python3"
  },
  "language_info": {
   "codemirror_mode": {
    "name": "ipython",
    "version": 3
   },
   "file_extension": ".py",
   "mimetype": "text/x-python",
   "name": "python",
   "nbconvert_exporter": "python",
   "pygments_lexer": "ipython3",
   "version": "3.6.2"
  }
 },
 "nbformat": 4,
 "nbformat_minor": 2
}
