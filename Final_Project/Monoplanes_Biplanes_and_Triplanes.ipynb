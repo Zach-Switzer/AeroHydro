{
 "cells": [
  {
   "cell_type": "markdown",
   "metadata": {},
   "source": [
    " Created by Zachary Switzer &nbsp;&nbsp;|&nbsp;&nbsp; Spring 2019 &nbsp;&nbsp;|&nbsp;&nbsp; The George Washington University - MAE 6226"
   ]
  },
  {
   "cell_type": "markdown",
   "metadata": {},
   "source": [
    "## <P style = \"text-align: center;\"> Performance of Monoplanes, Biplanes, and Triplanes"
   ]
  },
  {
   "cell_type": "markdown",
   "metadata": {},
   "source": [
    "### <P style = \"text-align: center;\"> A Comparison to <i> \"Model Airplane Design and Theory of Flight\" </i>by Charles Grant [1]"
   ]
  },
  {
   "cell_type": "markdown",
   "metadata": {},
   "source": [
    "<img src=\"Fokker_DR1.JPG\" height=\"300\" width=\"700\">"
   ]
  },
  {
   "cell_type": "markdown",
   "metadata": {},
   "source": [
    "### What are Monoplanes, Biplanes, and Triplanes?\n",
    "Most people have seen or at least have a general undertsanding of what biplanes (an aircraft with two fixed-wings, in which one is stacked above the other) look like, and nowadays almost everyone has ridden in a monoplane (an aircraft with a single fixed-wing) [2],[3]. However, planes with more wings have historically been used much less and as a result are generally less widely known. Triplanes are also fixed wing aircraft, in which wings are stacked above one another, but have three wings instead of two [4]. "
   ]
  },
  {
   "cell_type": "markdown",
   "metadata": {},
   "source": [
    "### When were biplanes and triplanes used and why don't we see them as much nowadays?\n",
    "Biplanes and triplanes were mainly used in WWI due to the fact that the technology for cantilever wings, which is used in monoplanes, had not been fully developed [5]. The box girder bracing structure of biplanes and triplanes evenly distributed loads throughout the aircraft, allowed for greater stability, and allowed for light materials to be used in the wings of planes [6]. With the developments in engine power and wing structural design in the period after WWI, monoplanes gained popularity as they overcame the speed limit inherent in biplanes and triplanes due to the excess drag created by their support struts [5],[7].\n",
    "\n",
    "Biplanes and triplanes aren’t utilized as much nowadays mainly because of the speed and lift limitations that are present due to their design. The struts that connect wings and act as structural support also disrupt the flow around the wings and create excess drag that limits speed of the aircraft. Distance between wings also affects the flow around airfoils and can significantly decrease the overall lift of the aircraft if wings are placed too close to one another. However, this decrease in overall lift also allows biplanes and triplanes to fly at larger angles of attack and lower speeds before stalling compared to monoplanes [5]. "
   ]
  },
  {
   "cell_type": "markdown",
   "metadata": {},
   "source": [
    "### The Goal:\n",
    "This project is motivated by and follows the incredibly insightful book <i> \"Model Airplane Design and Theory of Flight\" </i>  by Charles Grant, in which Grant compares the performance of monoplanes, biplanes, and triplanes. In this tutorial we will compare the results (mainly in terms of lift, streamlines, and Cp) gained from a Python-implemented Panel Method and an XFLR5 model to the results described by Charles Grant [1]. By the end of this tutorial you will not only have a much greater understanding of the theory behind monoplanes, biplanes, and triplanes but also (hopefully!) a greater appreciation for the incredible technological advances that have gone into the planes that we fly in today and often take for granted."
   ]
  },
  {
   "cell_type": "markdown",
   "metadata": {},
   "source": [
    "<img src=\"Red_Baron_Albatros.JPG\" height=\"300\" width=\"700\">"
   ]
  },
  {
   "cell_type": "markdown",
   "metadata": {},
   "source": [
    "We begin this tutorial as we do with every great AeroHydro tutorial: by importing our libraries and loading our airfoil geometry! \n",
    "\n",
    "Because biplanes and triplanes dominated WWI, for this tutorial we will use the Gottingen 174 airfoil from the Albatros D.II, which was used by Manfred von Richthofen (the Red Baron) in November 1916 when he shot down his famous adversary British ace Major Lanoe Hawker VC [8]. This airfoil was acquired from airfoiltools.com and can be found under the name \"GOE-174 (Albatros 5020)\". "
   ]
  },
  {
   "cell_type": "code",
   "execution_count": 1,
   "metadata": {},
   "outputs": [],
   "source": [
    "# importing libraries\n",
    "import numpy\n",
    "import os\n",
    "from scipy import integrate, linalg\n",
    "import math\n",
    "from helper import *\n",
    "import pandas\n",
    "from matplotlib import pyplot\n",
    "%matplotlib inline"
   ]
  },
  {
   "cell_type": "code",
   "execution_count": 2,
   "metadata": {},
   "outputs": [],
   "source": [
    "# load the geometry of the GOE-174 airfoil\n",
    "GOE_174 = os.path.join('data', 'GOE-174.csv')\n",
    "with open(GOE_174, 'r') as infile:\n",
    "    x_m, y_m = numpy.loadtxt(infile, dtype=float, unpack=True, delimiter=',')\n",
    "    \n",
    "# determine the number of points in the geometry\n",
    "N = len(x_m)\n",
    "#print(N)"
   ]
  },
  {
   "cell_type": "markdown",
   "metadata": {},
   "source": [
    "And just like that we've already created the airfoil that we'll use to simulate the monplane wing.\n",
    "\n",
    "The first thing that we'll need to do to venture out of the realm of monoplanes is to add multiple airfoils to the flow and manipulate their position in the space that we're testing in. To do this, let's create a simple function to translate the airfoil geometry from its primary location (the origin) to another location of our choosing. \n",
    "\n",
    "This function works off the simple principle that if we want to move a point (or group of points that make up an airfoil in this case) we need to add an offset value to each point's x and y coordinates. \n",
    "\n",
    "$$x' =\\ x + x_{new}$$\n",
    "$$y' =\\ y + y_{new}$$"
   ]
  },
  {
   "cell_type": "code",
   "execution_count": 3,
   "metadata": {},
   "outputs": [],
   "source": [
    "# move the geometry of the airfoils\n",
    "def translate_geo(x_foil, y_foil, x_new, y_new):\n",
    "    x = x_foil+x_new\n",
    "    y = y_foil+y_new\n",
    "    return x,y"
   ]
  },
  {
   "cell_type": "markdown",
   "metadata": {},
   "source": [
    "Great! Now we can position two or three airfoils in the same flowstream and simulate a biplane or triplane.\n",
    "\n",
    "Before we get ahead of ourselves though, we'll want to consult <i> \"Model Airplane Design and Theory of Flight\" </i> and get an idea of what our setup should be.\n",
    "\n",
    "<img src=\"gap_length.JPG\">\n",
    "\n",
    "From p.32 Grant states that, “The gap between two airfoils affects efficiency and lift; while it is convenient to place them close, the closer they are the less lift is produced as a combination, and efficiency is reduced.” He also mentions that, \"If the wings are set so the gap equals three times the chord, there is practically no loss of lift or efficiency.\" \n",
    "\n",
    "Grant then adds, \"It is usually inconvenient to combine wings with a gap greater than 1 ½ times the chord. Customarily the gap equals the wing chord; for by making the gap wider, struts are lengthened and enough added resistance is produced to neutralize any gain in efficiency. It is suggested that the gap equal 1 ½ times the chord when applying this principle to models. Never use a gap less than once, nor more than three times the chord, for there is no advantage in doing so.\""
   ]
  },
  {
   "cell_type": "markdown",
   "metadata": {},
   "source": [
    "<img src=\"BiPlane_Lift_Chord_vs_Gap.JPG\" height=\"300\" width=\"600\">"
   ]
  },
  {
   "cell_type": "markdown",
   "metadata": {},
   "source": [
    "Grant then presents the figure above in which the lift of biplanes at different angles of attack and with different gap to chord ratios (in % values) are compared to a monoplane's lift (assuming the same wing area), which is set at a reference value of 100%. Since we are only focused on the airfoil and not the full wing itself, we will use wings of the same chord length and assume that the wing span is also the same (since area = chord x span). "
   ]
  },
  {
   "cell_type": "markdown",
   "metadata": {},
   "source": [
    "### Step 1:\n",
    "Following the information Grant has just presented, our first step will be to create biplanes with the same gap/chord ratios and angles of attack presented in the table above and see if our lift values match Grant's. We will then continue to increase the gap/chord ratio and see if the lift vlaue of the biplane actually approaches that of the monoplane as the gap/chord ratio approaches 3.\n",
    "\n",
    "During this tutorial we will not do any efficiency evaluations, as efficiency (Lift/Drag) requires us to calculate drag, which we can't do under the invisicid flow assumption which we will be following. \n",
    "\n",
    "Since the chord length of our airfoil is 1 (as the airfoil's leading edge is at x=0 and its trailing edge is at x=1) we only need to focus on the gap length. Let's first create each of the four biplanes described in the gap/chord vs lift table."
   ]
  },
  {
   "cell_type": "code",
   "execution_count": 4,
   "metadata": {},
   "outputs": [],
   "source": [
    "# create the 2nd airfoil for the biplane\n",
    "# move the second airfoil up by the gap length in the y direction and 0.0 in the x direction\n",
    "# gap 1: 0.75\n",
    "x_n1, y_n1 = 0.0, 0.75\n",
    "x_bi_1, y_bi_1 = translate_geo(x_m, y_m, x_n1, y_n1)\n",
    "\n",
    "# gap 2: 1.0\n",
    "x_n2, y_n2 = 0.0, 1.0\n",
    "x_bi_2, y_bi_2 = translate_geo(x_m, y_m, x_n2, y_n2)\n",
    "\n",
    "# gap 3: 1.25\n",
    "x_n3, y_n3 = 0.0, 1.25\n",
    "x_bi_3, y_bi_3 = translate_geo(x_m, y_m, x_n3, y_n3)\n",
    "\n",
    "# gap 4: 1.5\n",
    "x_n4, y_n4 = 0.0, 1.5\n",
    "x_bi_4, y_bi_4 = translate_geo(x_m, y_m, x_n4, y_n4)"
   ]
  },
  {
   "cell_type": "code",
   "execution_count": 5,
   "metadata": {},
   "outputs": [
    {
     "data": {
      "image/png": "[encoded data removed]",
      "text/plain": [
       "<Figure size 720x432 with 4 Axes>"
      ]
     },
     "metadata": {},
     "output_type": "display_data"
    }
   ],
   "source": [
    "# plot the geometry\n",
    "subplots_plot_biplane_geo(x_m, y_m,x_bi_1, y_bi_1,x_bi_2, y_bi_2,x_bi_3, y_bi_3,x_bi_4, y_bi_4)"
   ]
  },
  {
   "cell_type": "markdown",
   "metadata": {},
   "source": [
    "### The Panel Method:\n",
    "Now that our 1st biplane geometry has been created we'll need to incorporate the angle of attack values and eventually solve for lift in order to match Grant's table. To do this we'll use the Panel Method as described in Lesson 11. The first step in the panel method will be to discretize the airfoil geometries into panels, at the center of which we will do our calculations. The panel class and the function for discretizing the panels can be found in helper.py."
   ]
  },
  {
   "cell_type": "code",
   "execution_count": 6,
   "metadata": {},
   "outputs": [],
   "source": [
    "# create the panels / discretize the geometry\n",
    "# we use N-1 as there are N total points so there should be N-1 panels\n",
    "\n",
    "# discretize the lower airfoil\n",
    "lower_panels_bi = define_panels(x_m, y_m, N-1)\n",
    "\n",
    "# discretize each of the upper airfoils\n",
    "# gap 1: 0.75\n",
    "upper_panels_bi_1 = define_panels(x_bi_1, y_bi_1, N-1)\n",
    "# gap 2: 1.00\n",
    "upper_panels_bi_2 = define_panels(x_bi_2, y_bi_2, N-1)\n",
    "# gap 3: 1.25\n",
    "upper_panels_bi_3 = define_panels(x_bi_3, y_bi_3, N-1)\n",
    "# gap 4: 1.50\n",
    "upper_panels_bi_4 = define_panels(x_bi_4, y_bi_4, N-1)"
   ]
  },
  {
   "cell_type": "code",
   "execution_count": 7,
   "metadata": {},
   "outputs": [
    {
     "data": {
      "image/png": "[encoded data removed]",
      "text/plain": [
       "<Figure size 720x432 with 4 Axes>"
      ]
     },
     "metadata": {},
     "output_type": "display_data"
    }
   ],
   "source": [
    "# modify the discretized panels for plotting\n",
    "subplots_plot_biplane_panels(x_m, y_m,x_bi_1, y_bi_1,x_bi_2, y_bi_2,x_bi_3, y_bi_3,\\\n",
    "                             x_bi_4, y_bi_4,lower_panels_bi,upper_panels_bi_1, \\\n",
    "                             upper_panels_bi_2,upper_panels_bi_3, upper_panels_bi_4)"
   ]
  },
  {
   "cell_type": "markdown",
   "metadata": {},
   "source": [
    "Great! Now that we've discretized our geometries into panels we can get down to incorporating the angles of attack and solving for lift.\n",
    "\n",
    "First let's define our Freestream condition. For the freestream we need to define the flow speed $U_\\infty$ and the angle of attack $\\alpha=0$. Setting a different value for angle of attack will give us each of the columns in the gap/chord vs lift table described by Grant. "
   ]
  },
  {
   "cell_type": "code",
   "execution_count": 8,
   "metadata": {},
   "outputs": [],
   "source": [
    "# create the freestream\n",
    "class Freestream:\n",
    "    def __init__(self, u_inf=1.0, alpha=0.0):\n",
    "        self.u_inf = u_inf\n",
    "        self.alpha = numpy.radians(alpha)  # degrees to radians\n",
    "        \n",
    "# define freestream conditions\n",
    "freestream_4 = Freestream(u_inf=1.0, alpha=4.0)\n",
    "freestream_6 = Freestream(u_inf=1.0, alpha=6.0)\n",
    "freestream_8 = Freestream(u_inf=1.0, alpha=8.0)\n",
    "freestream_10 = Freestream(u_inf=1.0, alpha=10.0)"
   ]
  },
  {
   "cell_type": "markdown",
   "metadata": {},
   "source": [
    "### Flow Tangency Boundary Condition\n",
    "\n",
    "Now we will incorporate the flow tangency boundary condition. This will make the body geometry correspond to a dividing streamline, as flow is not permitted to penetrate through the panels. To do this for each panel $i$, we make $u_n=0$ at $(x_{c_i},y_{c_i})$, and we will add a source strength $\\sigma$ and a vortex strength $\\gamma$ to each panel. We will follow the same assumptions seen in lessons 10 and 11 for $\\sigma$ and $\\gamma$. This will lead to:\n",
    "\n",
    "$$\n",
    "\\begin{align*}\n",
    "0 &= V_\\infty \\cos \\left(\\alpha-\\beta_i\\right) + \\frac{\\sigma_i}{2} + \\sum_{j=1,j\\neq i}^N \\frac{\\sigma_j}{2\\pi} \\int_j \\frac{\\partial}{\\partial n_i} \\ln \\left(\\sqrt{(x_{c_i}-x_j(s_j))^2+(y_{c_i}-y_j(s_j))^2} \\right) {\\rm d}s_j - \\sum_{j=1,j\\neq i}^N \\frac{\\gamma}{2\\pi} \\int_j \\frac{\\partial}{\\partial n_i} \\tan^{-1} \\left(\\frac{y_{c_i}-y_j(s_j)}{x_{c_i}-x_j(s_j)}\\right) {\\rm d}s_j\n",
    "\\end{align*}\n",
    "$$\n",
    "\n",
    "Let's run the functions for the integral, and the source and vortex contributions. They can be seen with other functions in helper.py. To make things easier for us let's also combine the two discretized geometries of the upper and lower wing into one list that we can use to find the source and vortex contributions from. Then let's use this to find the source and vortex contibutions."
   ]
  },
  {
   "cell_type": "markdown",
   "metadata": {},
   "source": [
    "From now on though, let's just worry about working with the biplane with a gap/chord ratio = 0.75. We'll incorporate the others later."
   ]
  },
  {
   "cell_type": "code",
   "execution_count": 9,
   "metadata": {},
   "outputs": [],
   "source": [
    "# combine the discretized geometries\n",
    "# gap 1: 0.75\n",
    "panelS_bi_1=numpy.concatenate((lower_panels_bi, upper_panels_bi_1))\n",
    "# gap 2: 1.00\n",
    "panelS_bi_2=numpy.concatenate((lower_panels_bi, upper_panels_bi_2))\n",
    "# gap 3: 1.25\n",
    "panelS_bi_3=numpy.concatenate((lower_panels_bi, upper_panels_bi_3))\n",
    "# gap 4: 1.50\n",
    "panelS_bi_4=numpy.concatenate((lower_panels_bi, upper_panels_bi_4))\n",
    "\n",
    "# 1st biplane\n",
    "# gap 1: 0.75\n",
    "A_source_bi_1 = source_contribution_normal(panelS_bi_1)\n",
    "B_vortex_bi_1 = vortex_contribution_normal(panelS_bi_1)"
   ]
  },
  {
   "cell_type": "markdown",
   "metadata": {},
   "source": [
    "### Solve the Linear System\n",
    "Because each airfoil has N-1 panels, there will be $(N-1)+(N-1)+2$ unknowns, with $(N-1)+(N-1)$ unknowns corresponding to the source strengths, and 2 unknowns corresponding to the two vortex strengths.\n",
    "\n",
    "The following equations can then be found for the center of each $i^{th}$ panel:\n",
    "\n",
    "$$\n",
    "u_{n_i} \\left( {x_c}_i, {y_c}_i \\right) = b^n_i + \\sum_{j = 1}^{2(N-1)} A^n_{ij} \\sigma_j + \\sum_{j = 1}^{(N-2)} B^n_{ij} \\gamma_a + \\sum_{j = (N-1)}^{2(N-1)} B^n_{ij} \\gamma_b\n",
    "$$\n",
    "$$\n",
    "u_{t_i} \\left( {x_c}_i, {y_c}_i \\right) = b^t_i + \\sum_{j = 1}^{2(N-1)} B^n_{ij} \\sigma_j - \\sum_{j = 1}^{(N-2)} A^n_{ij} \\gamma_a - \\sum_{j = (N-1)}^{2(N-1)} A^n_{ij} \\gamma_b\n",
    "$$\n",
    "\n",
    "with:\n",
    "\n",
    "$$\n",
    "A^n_{ij} = \\frac{1}{2 \\pi} \\int_0^{l_j} \\frac{\\left( {x_c}_i - \\xi_j(s) \\right) \\cos\\beta_i + \\left( {y_c}_i - \\eta_j(s) \\right) \\sin\\beta_i}{\\left( {x_c}_i - \\xi_j(s) \\right)^2 + \\left( {y_c}_i - \\eta_j(s) \\right)^2} ds\n",
    "$$\n",
    "\n",
    "$$\n",
    "B^n_{ij} = \\frac{1}{2 \\pi} \\int_0^{l_j} \\frac{\\left( {y_c}_i - \\eta_j(s) \\right) \\cos\\beta_i - \\left( {x_c}_i - \\xi_j(s) \\right) \\sin\\beta_i}{\\left( {x_c}_i - \\xi_j(s) \\right)^2 + \\left( {y_c}_i - \\eta_j(s) \\right)^2} ds\n",
    "$$\n",
    "\n",
    "Since there are $(N-1)+(N-1)+2$ unknowns we will need two Kutta Conditions to solve for each vortex strength that is needed to keep the stagnation point attached to the trailing edge of each airfoil. \n",
    "\n",
    "$$\n",
    "u_{t_1} + u_{t_{(N-2)}} = 0\n",
    "$$\n",
    "\n",
    "$$\n",
    "u_{t_{(N-1)}} + u_{t_{2(N-1)}} = 0\n",
    "$$\n",
    "\n",
    "In order to solve for the different source strengths at each panel and the vortex strength values for each airfoil we'll need to build a linear system. This system will incorporate the source and vortex contributions as well as the freestream contributions. The linear system should take the form: \n",
    "\n",
    "$$[A][\\sigma,\\gamma] = [b]$$\n",
    "\n",
    "All of the functions that we will use to do this can be found in helper.py. Let's run the rest of the functions that we'll need to solve for the linear system. Now let's solve the linear system for the 1st biplane!"
   ]
  },
  {
   "cell_type": "code",
   "execution_count": 10,
   "metadata": {},
   "outputs": [
    {
     "name": "stdout",
     "output_type": "stream",
     "text": [
      "[0.2042057  0.17558401]\n"
     ]
    }
   ],
   "source": [
    "N = int(len(panelS_bi_1)/2)\n",
    "\n",
    "# For AOA = 4 degrees build the singularity matrix\n",
    "# gap 1: 0.75\n",
    "A_bi_1 = build_singularity_matrix(A_source_bi_1, B_vortex_bi_1, N)\n",
    "b_bi4_1 = build_freestream_rhs(panelS_bi_1, freestream_4, N)\n",
    "\n",
    "# solve for the singularity matrices\n",
    "strengths_bi4_1 = numpy.linalg.solve(A_bi_1,b_bi4_1)\n",
    "\n",
    "#store the strengths on each panel\n",
    "for i, panel in enumerate(panelS_bi_1):\n",
    "    panel.sigma = strengths_bi4_1[i]\n",
    "\n",
    "# store the circulation density\n",
    "gamma_bi4_1 = strengths_bi4_1[-2:]\n",
    "#print(gamma_bi4_1)"
   ]
  },
  {
   "cell_type": "markdown",
   "metadata": {},
   "source": [
    "Now let's create functions to compute the tangential velocity and surface pressure coefficient. The pressure coefficient for each panel will be: $$C_{p_i} = 1 - \\left(\\frac{V_{t_i}}{U_\\infty}\\right)^2$$\n",
    "This can be found in helper.py as well."
   ]
  },
  {
   "cell_type": "code",
   "execution_count": 11,
   "metadata": {},
   "outputs": [],
   "source": [
    "# compute the tangential velocity\n",
    "compute_tangential_velocity(panelS_bi_1, freestream_4, gamma_bi4_1, A_source_bi_1, B_vortex_bi_1, N)\n",
    "        \n",
    "# compute the pressure coefficient\n",
    "compute_pressure_coefficient(panelS_bi_1, freestream_4)"
   ]
  },
  {
   "cell_type": "markdown",
   "metadata": {},
   "source": [
    "Now let's check the accuracy. We should see that the sum of all of the sources approaches 0 closed body."
   ]
  },
  {
   "cell_type": "code",
   "execution_count": 12,
   "metadata": {},
   "outputs": [
    {
     "name": "stdout",
     "output_type": "stream",
     "text": [
      "sum of singularity strengths: -0.011056\n"
     ]
    }
   ],
   "source": [
    "# check that the work so far is correct => for a closed body the sum of the strengths must = 0\n",
    "accuracy_bi4_1 = sum([panel.sigma*panel.length for panel in panelS_bi_1])\n",
    "print('sum of singularity strengths: {:0.6f}'.format(accuracy_bi4_1))"
   ]
  },
  {
   "cell_type": "markdown",
   "metadata": {},
   "source": [
    "Looks good! Now let's solve for the lift. Here lift will be $L = - \\int_{\\text{main}} p \\mathbf{n} \\cdot \\mathbf{j} dl - \\int_{\\text{flap}} p \\mathbf{n} \\cdot \\mathbf{j} dl$, where $\\mathbf{j}$ is the unit vector in the direction of the lift force. Pressure can be found from bernoulli's equation: $P = 0.5 P_\\infty \\rho (U_{\\infty}^2 - U_{ti}^2) $."
   ]
  },
  {
   "cell_type": "code",
   "execution_count": 13,
   "metadata": {},
   "outputs": [
    {
     "name": "stdout",
     "output_type": "stream",
     "text": [
      "This is the value of the lift for the system: \n",
      "0.7025208209664381\n"
     ]
    }
   ],
   "source": [
    "# assume that P_inf = 0, density = 1 => use bernouli's equation\n",
    "P_inf=0\n",
    "den=1\n",
    "u_inf=1.0\n",
    "\n",
    "# tangential velocity of the panels\n",
    "foil_vt = [panel.vt for panel in panelS_bi_1[:N]]\n",
    "flap_vt = [panel.vt for panel in panelS_bi_1[N:]]\n",
    "\n",
    "# length of the panels\n",
    "foil_len = [panel.length for panel in panelS_bi_1[:N]]\n",
    "flap_len = [panel.length for panel in panelS_bi_1[N:]]\n",
    "\n",
    "# angle of the panels called n*j (beta)\n",
    "foil_angle = [panel.beta for panel in panelS_bi_1[:N]]\n",
    "flap_angle = [panel.beta for panel in panelS_bi_1[N:]]\n",
    "\n",
    "# foil lift array\n",
    "loquat = numpy.empty(N, dtype=float)\n",
    "for i in range (N):\n",
    "    loquat[i]=-(P_inf+0.5*den*(u_inf**2-foil_vt[i]**2))*foil_len[i]*math.sin(foil_angle[i])\n",
    "    \n",
    "# flap lift array\n",
    "mango = numpy.empty(N, dtype=float)\n",
    "for i in range (N):\n",
    "    mango[i]=-(P_inf+0.5*den*(u_inf**2-flap_vt[i]**2))*flap_len[i]*math.sin(flap_angle[i])\n",
    "\n",
    "# summing the lift arrays and ading them up\n",
    "L_bi4_1=numpy.sum(loquat)+numpy.sum(mango)\n",
    "print ('This is the value of the lift for the system: '+'\\n'+str(L_bi4_1))"
   ]
  },
  {
   "cell_type": "markdown",
   "metadata": {},
   "source": [
    "Great! But this value for lift doesn't really mean much without referencing to the other values that we still need to solve for. With that being said let's solve for the rest of the values in the gap/chord vs lift table. But before we get ahead of ourselves let's create a function to do all of these steps so that we don't have to write all of it out everytime."
   ]
  },
  {
   "cell_type": "code",
   "execution_count": 14,
   "metadata": {},
   "outputs": [
    {
     "name": "stdout",
     "output_type": "stream",
     "text": [
      "This is the value of the lift for the system: \n",
      "0.7025208209664381\n"
     ]
    }
   ],
   "source": [
    "L_test = solve_biplane(panelS_bi_1, freestream_4)\n",
    "print('This is the value of the lift for the system: '+'\\n'+str(L_test))"
   ]
  },
  {
   "cell_type": "markdown",
   "metadata": {},
   "source": [
    "That should make things easier! Let's go ahead and run all our values through it to get the lifts for all of the biplane models at each angle of attack."
   ]
  },
  {
   "cell_type": "code",
   "execution_count": 15,
   "metadata": {},
   "outputs": [],
   "source": [
    "# Freestream = 4 deg\n",
    "# gap 1: 0.75\n",
    "L_bi4_1 = solve_biplane(panelS_bi_1, freestream_4)\n",
    "# gap 2: 1.00\n",
    "L_bi4_2 = solve_biplane(panelS_bi_2, freestream_4)\n",
    "# gap 3: 1.25\n",
    "L_bi4_3 = solve_biplane(panelS_bi_3, freestream_4)\n",
    "# gap 4: 1.50\n",
    "L_bi4_4 = solve_biplane(panelS_bi_4, freestream_4)\n",
    "\n",
    "# Freestream = 6 deg\n",
    "# gap 1: 0.75\n",
    "L_bi6_1 = solve_biplane(panelS_bi_1, freestream_6)\n",
    "# gap 2: 1.00\n",
    "L_bi6_2 = solve_biplane(panelS_bi_2, freestream_6)\n",
    "# gap 3: 1.25\n",
    "L_bi6_3 = solve_biplane(panelS_bi_3, freestream_6)\n",
    "# gap 4: 1.50\n",
    "L_bi6_4 = solve_biplane(panelS_bi_4, freestream_6)\n",
    "\n",
    "# Freestream = 8 deg\n",
    "# gap 1: 0.75\n",
    "L_bi8_1 = solve_biplane(panelS_bi_1, freestream_8)\n",
    "# gap 2: 1.00\n",
    "L_bi8_2 = solve_biplane(panelS_bi_2, freestream_8)\n",
    "# gap 3: 1.25\n",
    "L_bi8_3 = solve_biplane(panelS_bi_3, freestream_8)\n",
    "# gap 4: 1.50\n",
    "L_bi8_4 = solve_biplane(panelS_bi_4, freestream_8)\n",
    "\n",
    "# Freestream = 10 deg\n",
    "# gap 1: 0.75\n",
    "L_bi10_1 = solve_biplane(panelS_bi_1, freestream_10)\n",
    "# gap 2: 1.00\n",
    "L_bi10_2 = solve_biplane(panelS_bi_2, freestream_10)\n",
    "# gap 3: 1.25\n",
    "L_bi10_3 = solve_biplane(panelS_bi_3, freestream_10)\n",
    "# gap 4: 1.50\n",
    "L_bi10_4 = solve_biplane(panelS_bi_4, freestream_10)"
   ]
  },
  {
   "cell_type": "markdown",
   "metadata": {},
   "source": [
    "Now we need to find the lift for the monplane at all 4 angles of attack so that we can convert all of the lift values from the biplanes to percentages. To do this we'll use the same type of functions that we used for the biplane, but in this case we will only need one Kutta condition (as there is only one airfoil). The functions we'll be using will come from lesson 11, and can be found once again in helper.py."
   ]
  },
  {
   "cell_type": "code",
   "execution_count": 16,
   "metadata": {},
   "outputs": [],
   "source": [
    "#  find the lift of the monoplane at different angles of attack\n",
    "# here we need to multiply by 2 in order to make sure that \n",
    "# the monoplane and biplane have the same area\n",
    "# freestream = 4 deg\n",
    "L_m4 = 2*solve_monoplane(lower_panels_bi, freestream_4)\n",
    "# freestream = 6 deg\n",
    "L_m6 = 2*solve_monoplane(lower_panels_bi, freestream_6)\n",
    "# freestream = 8 deg\n",
    "L_m8 = 2*solve_monoplane(lower_panels_bi, freestream_8)\n",
    "# freestream = 10 deg\n",
    "L_m10 = 2*solve_monoplane(lower_panels_bi, freestream_10)\n",
    "#print(L_m4, L_m6, L_m8, L_m10)"
   ]
  },
  {
   "cell_type": "markdown",
   "metadata": {},
   "source": [
    "Now that we have all of our data, we can put it in table format and compare it to the gap/chord vs lift table Grant provides."
   ]
  },
  {
   "cell_type": "code",
   "execution_count": 17,
   "metadata": {},
   "outputs": [
    {
     "data": {
      "text/html": [
       "<div>\n",
       "<style scoped>\n",
       "    .dataframe tbody tr th:only-of-type {\n",
       "        vertical-align: middle;\n",
       "    }\n",
       "\n",
       "    .dataframe tbody tr th {\n",
       "        vertical-align: top;\n",
       "    }\n",
       "\n",
       "    .dataframe thead tr th {\n",
       "        text-align: left;\n",
       "    }\n",
       "\n",
       "    .dataframe thead tr:last-of-type th {\n",
       "        text-align: right;\n",
       "    }\n",
       "</style>\n",
       "<table border=\"1\" class=\"dataframe\">\n",
       "  <thead>\n",
       "    <tr>\n",
       "      <th></th>\n",
       "      <th>AOA</th>\n",
       "      <th colspan=\"3\" halign=\"left\"></th>\n",
       "    </tr>\n",
       "    <tr>\n",
       "      <th></th>\n",
       "      <th>4 deg</th>\n",
       "      <th>6 deg</th>\n",
       "      <th>8 deg</th>\n",
       "      <th>10 deg</th>\n",
       "    </tr>\n",
       "    <tr>\n",
       "      <th>Gap/Chord</th>\n",
       "      <th></th>\n",
       "      <th></th>\n",
       "      <th></th>\n",
       "      <th></th>\n",
       "    </tr>\n",
       "  </thead>\n",
       "  <tbody>\n",
       "    <tr>\n",
       "      <th>0.75</th>\n",
       "      <td>77.5</td>\n",
       "      <td>77.7</td>\n",
       "      <td>77.8</td>\n",
       "      <td>77.9</td>\n",
       "    </tr>\n",
       "    <tr>\n",
       "      <th>1.00</th>\n",
       "      <td>83.7</td>\n",
       "      <td>83.7</td>\n",
       "      <td>83.7</td>\n",
       "      <td>83.7</td>\n",
       "    </tr>\n",
       "    <tr>\n",
       "      <th>1.25</th>\n",
       "      <td>87.9</td>\n",
       "      <td>87.8</td>\n",
       "      <td>87.8</td>\n",
       "      <td>87.8</td>\n",
       "    </tr>\n",
       "    <tr>\n",
       "      <th>1.50</th>\n",
       "      <td>90.8</td>\n",
       "      <td>90.7</td>\n",
       "      <td>90.6</td>\n",
       "      <td>90.6</td>\n",
       "    </tr>\n",
       "  </tbody>\n",
       "</table>\n",
       "</div>"
      ],
      "text/plain": [
       "            AOA                   \n",
       "          4 deg 6 deg 8 deg 10 deg\n",
       "Gap/Chord                         \n",
       "0.75       77.5  77.7  77.8   77.9\n",
       "1.00       83.7  83.7  83.7   83.7\n",
       "1.25       87.9  87.8  87.8   87.8\n",
       "1.50       90.8  90.7  90.6   90.6"
      ]
     },
     "execution_count": 17,
     "metadata": {},
     "output_type": "execute_result"
    }
   ],
   "source": [
    "data = numpy.round(numpy.array([[L_bi4_1/L_m4, L_bi6_1/L_m6, L_bi8_1/L_m8, L_bi10_1/L_m10],\n",
    "                   [L_bi4_2/L_m4, L_bi6_2/L_m6, L_bi8_2/L_m8, L_bi10_2/L_m10],\n",
    "                   [L_bi4_3/L_m4, L_bi6_3/L_m6, L_bi8_3/L_m8, L_bi10_3/L_m10],\n",
    "                   [L_bi4_4/L_m4, L_bi6_4/L_m6, L_bi8_4/L_m8, L_bi10_4/L_m10]])*100, decimals = 1)\n",
    "row_header = ['0.75','1.00','1.25','1.50']\n",
    "column_header = ([['AOA','','',''],['4 deg','6 deg','8 deg','10 deg']])\n",
    "df = pandas.DataFrame(data, row_header, column_header)\n",
    "df.index.name = 'Gap/Chord'\n",
    "df"
   ]
  },
  {
   "cell_type": "markdown",
   "metadata": {},
   "source": [
    "Great! We can see that at each angle of attack columns seem to be within roughly 2% of the values that Grant provides. However, we also see that the rows for each angle of attack are reletively constant, which we don't see in Grant's table. This makes sense from the panel method side of things as the lift of the biplane and the monoplane should increase somewhat linearly by and by a similar rate for if the only variable we change is angle of attack and if we stay within a small angle of attack range. The discrepencies with Grant's table could be due to a number of reasons, as Grant doesn't go into much explanation on how he gets the results in the table. These results could be experimental results, they could include the struts, which we have not included in our model and which would change the aerodynamics, and they could be based on different assumptions than the ones we're using.\n",
    "\n",
    "Now let's keep increasing the gap/chord ratio for one of the angles of attack (I like the number 6, so let's choose 6 degrees) and see when the lift of the biplane approaches that of the monoplane. Let's create a function that does it all (in helper.py of course)!"
   ]
  },
  {
   "cell_type": "code",
   "execution_count": 18,
   "metadata": {},
   "outputs": [],
   "source": [
    "# increase the biplane gap length\n",
    "y_start = y_n4+0.25\n",
    "y_end = 3.75\n",
    "y_n = numpy.arange(y_start, y_end, 0.25)\n",
    "\n",
    "# gap 5 (1.75) - gap 11 (3.25)\n",
    "L_bi6_5 = everything_biplane(x_m, y_m, x_n1, y_n[0],lower_panels_bi, freestream_6)\n",
    "L_bi6_6 = everything_biplane(x_m, y_m, x_n1, y_n[1],lower_panels_bi, freestream_6)\n",
    "L_bi6_7 = everything_biplane(x_m, y_m, x_n1, y_n[2],lower_panels_bi, freestream_6)\n",
    "L_bi6_8 = everything_biplane(x_m, y_m, x_n1, y_n[3],lower_panels_bi, freestream_6)\n",
    "L_bi6_9 = everything_biplane(x_m, y_m, x_n1, y_n[4],lower_panels_bi, freestream_6)\n",
    "L_bi6_10 = everything_biplane(x_m, y_m, x_n1, y_n[5],lower_panels_bi, freestream_6)\n",
    "L_bi6_11 = everything_biplane(x_m, y_m, x_n1, y_n[6],lower_panels_bi, freestream_6)\n",
    "L_bi6_12 = everything_biplane(x_m, y_m, x_n1, y_n[7],lower_panels_bi, freestream_6)"
   ]
  },
  {
   "cell_type": "code",
   "execution_count": 19,
   "metadata": {},
   "outputs": [
    {
     "data": {
      "image/png": "[encoded data removed]",
      "text/plain": [
       "<Figure size 540x360 with 1 Axes>"
      ]
     },
     "metadata": {},
     "output_type": "display_data"
    }
   ],
   "source": [
    "Lift_percent = ((numpy.round(numpy.array([L_bi6_5/L_m6, L_bi6_6/L_m6, \\\n",
    "                                                 L_bi6_7/L_m6, L_bi6_8/L_m6, L_bi6_9/L_m6, \\\n",
    "                                                 L_bi6_10/L_m6,L_bi6_11/L_m6, L_bi6_12/L_m6])*100, decimals = 1)))\n",
    "\n",
    "Lift_mono = numpy.ones((12,1))*100\n",
    "Lift_percent_tot = [data[0,2], data[1,2], data[2,2], data[3,2],Lift_percent[0],\\\n",
    "                    Lift_percent[1], Lift_percent[2], Lift_percent[3], Lift_percent[4],\\\n",
    "                    Lift_percent[5], Lift_percent[6], Lift_percent[7]]\n",
    "gap = numpy.arange(0.75, 3.75, 0.25)\n",
    "\n",
    "gap_chord_6(gap, Lift_percent_tot,Lift_mono)"
   ]
  },
  {
   "cell_type": "code",
   "execution_count": 20,
   "metadata": {},
   "outputs": [
    {
     "data": {
      "text/html": [
       "<div>\n",
       "<style scoped>\n",
       "    .dataframe tbody tr th:only-of-type {\n",
       "        vertical-align: middle;\n",
       "    }\n",
       "\n",
       "    .dataframe tbody tr th {\n",
       "        vertical-align: top;\n",
       "    }\n",
       "\n",
       "    .dataframe thead tr th {\n",
       "        text-align: left;\n",
       "    }\n",
       "</style>\n",
       "<table border=\"1\" class=\"dataframe\">\n",
       "  <thead>\n",
       "    <tr>\n",
       "      <th></th>\n",
       "      <th>Gap/Chord</th>\n",
       "      <th colspan=\"7\" halign=\"left\"></th>\n",
       "    </tr>\n",
       "    <tr>\n",
       "      <th></th>\n",
       "      <th>1.75</th>\n",
       "      <th>2.00</th>\n",
       "      <th>2.25</th>\n",
       "      <th>2.50</th>\n",
       "      <th>2.75</th>\n",
       "      <th>3.00</th>\n",
       "      <th>3.25</th>\n",
       "      <th>3.5</th>\n",
       "    </tr>\n",
       "  </thead>\n",
       "  <tbody>\n",
       "    <tr>\n",
       "      <th>AOA = 6 degrees</th>\n",
       "      <td>92.7</td>\n",
       "      <td>94.2</td>\n",
       "      <td>95.2</td>\n",
       "      <td>96.1</td>\n",
       "      <td>96.7</td>\n",
       "      <td>97.2</td>\n",
       "      <td>97.6</td>\n",
       "      <td>97.9</td>\n",
       "    </tr>\n",
       "  </tbody>\n",
       "</table>\n",
       "</div>"
      ],
      "text/plain": [
       "                Gap/Chord                                          \n",
       "                     1.75  2.00  2.25  2.50  2.75  3.00  3.25   3.5\n",
       "AOA = 6 degrees      92.7  94.2  95.2  96.1  96.7  97.2  97.6  97.9"
      ]
     },
     "execution_count": 20,
     "metadata": {},
     "output_type": "execute_result"
    }
   ],
   "source": [
    "Lift_percent.shape = (1,8)\n",
    "column_header = ([['Gap/Chord','','','','','','','' ],\\\n",
    "                  ['1.75','2.00','2.25', '2.50', '2.75', '3.00', '3.25', '3.5']])\n",
    "row_header = (['AOA = 6 degrees'])\n",
    "df = pandas.DataFrame(Lift_percent, row_header ,column_header)\n",
    "#df.index.name = 'Gap/Chord'\n",
    "df"
   ]
  },
  {
   "cell_type": "markdown",
   "metadata": {},
   "source": [
    "From the plot and the table of gap/chord we can see that as the gap/chord ratio appraoches 3, the biplane's lift does approach that of the monplane's and the loss in lift becomes quite small, as Grant described. However, we also see that even after a gap/chord ratio of 3, the lift of the biplane is still not able to reach that of the monoplane. This is likely due to the minor aerodynamic influences that the two airfoils have on one another, and we would likely see the biplanes lift approach that of the monoplane as the gap/chord ratio approached infinity."
   ]
  },
  {
   "cell_type": "markdown",
   "metadata": {},
   "source": [
    "### Step 2:\n",
    "\n",
    "Now that we've shown a similar result to the table presented by Grant on p.32 let's look back to <i> \"Model Airplane Design and Theory of Flight\" </i> for some more direction. We can see that on p.34 Grant presents a similar table in which he compares the lift of monoplanes, biplanes, and triplanes at angles of attack ranging from 0-12 degrees for a gap/chord ratio of 1.25. Here, Grant chooses a gap/chord ratio of 1.25 as he states, \"The customary gap, as in a biplane is 1 or 1 ½ times the wing chord. A gap of not less than ¾ nor more than 1 ½ times the chord is advisable. Of course the larger the gap the more efficient the wings are, resulting in greater lift, but with the reservations above.”\n",
    "\n",
    "<img src=\"Monoplane_vs_Biplane_vs_Triplane.JPG\" height=\"200\" width=\"500\">\n",
    "\n",
    "Let's now create a triplane and a biplane with a gap/chord ratio of 1.25 to match the table Grant presents. In order to use the panel method on for a triplane we will not only have to change the geometry so that we incorportate and discretize 3 airfoils, but we will also have to change our linear system and incorporate 3 Kutta conditions as follows:\n",
    "\n",
    "$$\n",
    "u_{n_i} \\left( {x_c}_i, {y_c}_i \\right) = b^n_i + \\sum_{j = 1}^{3(N-1)} A^n_{ij} \\sigma_j + \\sum_{j = 1}^{(N-1)/3} B^n_{ij} \\gamma_a + \\sum_{j = 1+(N-1)/3}^{2(N-1)/3} B^n_{ij} \\gamma_b + \\sum_{j = 1+2(N-1)/3}^{(N-1)} B^n_{ij} \\gamma_c\n",
    "$$\n",
    "\n",
    "$$\n",
    "u_{t_i} \\left( {x_c}_i, {y_c}_i \\right) = b^t_i + \\sum_{j = 1}^{3(N-1)} B^n_{ij} \\sigma_j - \\sum_{j = 1}^{(N-1)/3} A^n_{ij} \\gamma_a - \\sum_{j = 1+(N-1)/3}^{2(N-1)/3} A^n_{ij} \\gamma_b - \\sum_{j = 1+2(N-1)/3}^{(N-1)} A^n_{ij} \\gamma_c\n",
    "$$\n",
    "\n",
    "$$\n",
    "u_{t_1} + u_{t_{(N-1)/3}} = 0\n",
    "$$\n",
    "\n",
    "$$\n",
    "u_{t_{1+(N-1)/3}} + u_{t_{2(N-1)/3}} = 0\n",
    "$$\n",
    "\n",
    "$$\n",
    "u_{t_{1+2(N-1)/3}} + u_{t_{(N-1)}} = 0\n",
    "$$\n",
    "\n",
    "Since we're more or less just building off of the panel method we created for the biplane we'll use helper.py to store our functions so that we don't have an endlessly long lesson! First let's plot the discretized panels and make sure that everything looks good."
   ]
  },
  {
   "cell_type": "code",
   "execution_count": 21,
   "metadata": {},
   "outputs": [
    {
     "data": {
      "image/png": "[encoded data removed]",
      "text/plain": [
       "<Figure size 360x360 with 1 Axes>"
      ]
     },
     "metadata": {},
     "output_type": "display_data"
    }
   ],
   "source": [
    "# create the triplane\n",
    "y_gap = 1.25\n",
    "x_t_1, y_t_1, x_t_2, y_t_2, bot_panels, mid_panels, top_panels, panelS_tri = \\\n",
    "create_triplane (x_m, y_m, x_n1,y_gap)\n",
    "#bot_panels = lower_panels_bi\n",
    "\n",
    "plot_triplane_panels(x_m, y_m, x_t_1, y_t_1, x_t_2, y_t_2, bot_panels, mid_panels, top_panels)"
   ]
  },
  {
   "cell_type": "markdown",
   "metadata": {},
   "source": [
    "Great! Now let's create a function (in helper.py) to solve for the lift of the system for each angle of attack. While we're at it let's compute the rest of the monoplane and biplane lifts at gap/chord = 1.25."
   ]
  },
  {
   "cell_type": "code",
   "execution_count": 22,
   "metadata": {},
   "outputs": [],
   "source": [
    "# create the remaining freestream flows:\n",
    "freestream_0 = Freestream(u_inf=1.0, alpha=0.0)\n",
    "freestream_2 = Freestream(u_inf=1.0, alpha=2.0)\n",
    "freestream_12 = Freestream(u_inf=1.0, alpha=12.0)\n",
    "\n",
    "# solve for the triplane lift at AOA: 0-12\n",
    "# here each is multiplied by (2/3) for an area correction\n",
    "N=int(len(panelS_tri)/3)\n",
    "L_tri_0 = solve_triplane(panelS_tri, freestream_0, N)*(2/3)\n",
    "L_tri_2 = solve_triplane(panelS_tri, freestream_2, N)*(2/3)\n",
    "L_tri_4 = solve_triplane(panelS_tri, freestream_4, N)*(2/3)\n",
    "L_tri_6 = solve_triplane(panelS_tri, freestream_6, N)*(2/3)\n",
    "L_tri_8 = solve_triplane(panelS_tri, freestream_8, N)*(2/3)\n",
    "L_tri_10 = solve_triplane(panelS_tri, freestream_10, N)*(2/3)\n",
    "L_tri_12 = solve_triplane(panelS_tri, freestream_12, N)*(2/3)\n",
    "\n",
    "# remaining monoplane lift: AOA = 0, 2, 12\n",
    "# multiply each term by 2 for an area correction\n",
    "L_m0 = 2*solve_monoplane(lower_panels_bi, freestream_0)\n",
    "#print(L_m0)\n",
    "L_m2 = 2*solve_monoplane(lower_panels_bi, freestream_2)\n",
    "#print(L_m2)\n",
    "L_m12 = 2*solve_monoplane(lower_panels_bi, freestream_12)\n",
    "#print(L_m12)\n",
    "\n",
    "# remaining biplane lift: AOA = 0, 2, 12\n",
    "L_bi0_3 = everything_biplane(x_m, y_m, x_n1, 1.25,lower_panels_bi, freestream_0)\n",
    "#print(L_bi0_3)\n",
    "L_bi2_3 = everything_biplane(x_m, y_m, x_n1, 1.25,lower_panels_bi, freestream_2)\n",
    "#print(L_bi2_3)\n",
    "L_bi12_3 = everything_biplane(x_m, y_m, x_n1, 1.25,lower_panels_bi, freestream_12)\n",
    "#print(L_bi12_3)"
   ]
  },
  {
   "cell_type": "code",
   "execution_count": 23,
   "metadata": {},
   "outputs": [
    {
     "data": {
      "text/html": [
       "<div>\n",
       "<style scoped>\n",
       "    .dataframe tbody tr th:only-of-type {\n",
       "        vertical-align: middle;\n",
       "    }\n",
       "\n",
       "    .dataframe tbody tr th {\n",
       "        vertical-align: top;\n",
       "    }\n",
       "\n",
       "    .dataframe thead th {\n",
       "        text-align: right;\n",
       "    }\n",
       "</style>\n",
       "<table border=\"1\" class=\"dataframe\">\n",
       "  <thead>\n",
       "    <tr style=\"text-align: right;\">\n",
       "      <th></th>\n",
       "      <th>Monoplane</th>\n",
       "      <th>Biplane</th>\n",
       "      <th>Triplane</th>\n",
       "    </tr>\n",
       "    <tr>\n",
       "      <th>AOA</th>\n",
       "      <th></th>\n",
       "      <th></th>\n",
       "      <th></th>\n",
       "    </tr>\n",
       "  </thead>\n",
       "  <tbody>\n",
       "    <tr>\n",
       "      <th>0</th>\n",
       "      <td>100.0</td>\n",
       "      <td>88.2</td>\n",
       "      <td>86.3</td>\n",
       "    </tr>\n",
       "    <tr>\n",
       "      <th>2</th>\n",
       "      <td>100.0</td>\n",
       "      <td>88.0</td>\n",
       "      <td>83.5</td>\n",
       "    </tr>\n",
       "    <tr>\n",
       "      <th>4</th>\n",
       "      <td>100.0</td>\n",
       "      <td>87.9</td>\n",
       "      <td>82.0</td>\n",
       "    </tr>\n",
       "    <tr>\n",
       "      <th>6</th>\n",
       "      <td>100.0</td>\n",
       "      <td>87.8</td>\n",
       "      <td>80.9</td>\n",
       "    </tr>\n",
       "    <tr>\n",
       "      <th>8</th>\n",
       "      <td>100.0</td>\n",
       "      <td>87.8</td>\n",
       "      <td>79.9</td>\n",
       "    </tr>\n",
       "    <tr>\n",
       "      <th>10</th>\n",
       "      <td>100.0</td>\n",
       "      <td>87.8</td>\n",
       "      <td>78.9</td>\n",
       "    </tr>\n",
       "    <tr>\n",
       "      <th>12</th>\n",
       "      <td>100.0</td>\n",
       "      <td>87.8</td>\n",
       "      <td>78.0</td>\n",
       "    </tr>\n",
       "  </tbody>\n",
       "</table>\n",
       "</div>"
      ],
      "text/plain": [
       "     Monoplane  Biplane  Triplane\n",
       "AOA                              \n",
       "0        100.0     88.2      86.3\n",
       "2        100.0     88.0      83.5\n",
       "4        100.0     87.9      82.0\n",
       "6        100.0     87.8      80.9\n",
       "8        100.0     87.8      79.9\n",
       "10       100.0     87.8      78.9\n",
       "12       100.0     87.8      78.0"
      ]
     },
     "execution_count": 23,
     "metadata": {},
     "output_type": "execute_result"
    }
   ],
   "source": [
    "data = numpy.round(numpy.array([[L_m0/L_m0, L_bi0_3/L_m0, L_tri_0/L_m0],\n",
    "                   [L_m2/L_m2, L_bi2_3/L_m2, L_tri_2/L_m2],\n",
    "                   [L_m4/L_m4, L_bi4_3/L_m4, L_tri_4/L_m4],\n",
    "                   [L_m6/L_m6, L_bi6_3/L_m6, L_tri_6/L_m6],\n",
    "                    [L_m8/L_m8, L_bi8_3/L_m8, L_tri_8/L_m8],\n",
    "                    [L_m10/L_m10, L_bi10_3/L_m10, L_tri_10/L_m10],\n",
    "                    [L_m12/L_m12, L_bi12_3/L_m12, L_tri_12/L_m12]])*100, decimals = 1)\n",
    "row_header = ['0','2','4','6', '8', '10', '12']\n",
    "column_header = (['Monoplane', 'Biplane', 'Triplane'])\n",
    "df = pandas.DataFrame(data, row_header, column_header)\n",
    "df.index.name = 'AOA'\n",
    "df"
   ]
  },
  {
   "cell_type": "markdown",
   "metadata": {},
   "source": [
    "Hmmm, that's a little different than the figure that Grant presents. Here we can see that for both the biplane and the triplane the highest lift % (with repsect to that of the monoplane) occurs at 0 degrees angle of attack, which is consistent with Grant's table. We also see that the lift values decrease as the angle of attack increases from 0-2 degrees and that the triplane has a lower lift than the biplane for each angle of attack, both of which are seen in Grant's table as well. In Grant's table we can see that the lift actually begins to increase as the angle of attack increases (after the drop in lift from 0-2 degrees) for both the biplane and the triplane. However, in our table the lift values remain relatively consistent for the biplane and consistently decrease for the triplane as the angle of attack increases. Again, Grant doesn't specify how he reaches the values in his table, and from the results of the last comparison in which we saw slight differences and these results (in which the differences were slightly more pronounced) it could be safe to say that Grant's results are taken from either experiments or under different theoretical assumptions. "
   ]
  },
  {
   "cell_type": "markdown",
   "metadata": {},
   "source": [
    "As our last step with the panel method, let's look back to <i> \"Model Airplane Design and Theory of Flight\" </i> one last time and see how much lift each of the individual wings in biplane and triplane will generate. \n",
    "<img src=\"wing_lift.JPG\" height=\"400\" width=\"400\">\n",
    "On p.35-36 Grant states, \"At normal flying angles (2 – 6 degrees) lift on each is close to the following proportion: upper wing 2 (or 42.5%), middle wing 1 (or 21.3%), and bottom wing 1.7 (or 36.2%). The middle wing then is the least efficient, generating least lift; the bottom wing comes next in effectiveness and the top wing gives the most lift and so is the most efficient, as in the biplane.\" Let's make a bar graph of lift % values for each of the wings in the biplane and triplane over for an angle of attack of 4 degrees (right in the middle of Grant's range) and a gap/chord = 1.00 (this is the gap/chord ratio that Grant uses), and see how they compare to the values Grant presents. To do this we'll create functions (in helper.py of course!) to calculate the lift of each wing."
   ]
  },
  {
   "cell_type": "code",
   "execution_count": 24,
   "metadata": {},
   "outputs": [
    {
     "data": {
      "image/png": "[encoded data removed]",
      "text/plain": [
       "<Figure size 1008x360 with 2 Axes>"
      ]
     },
     "metadata": {},
     "output_type": "display_data"
    }
   ],
   "source": [
    "# Biplane @ AOA = 4 degrees | gap/chord = 1.00\n",
    "L_bi, L_bottom_bi, L_top_bi,x_bi, y_bi = biplane_ind_wings(x_m, y_m, x_n1, 1.00,lower_panels_bi, freestream_4)\n",
    "\n",
    "# check that the biplane was actually made correctly\n",
    "# plot_bi_check(x_m, y_m, x_bi, y_bi)\n",
    "\n",
    "bi_B = (L_bottom_bi/L_bi)*100 # % lift of the bottom wing\n",
    "bi_T = (L_top_bi/L_bi)*100 # % lift of the top wing\n",
    "bi_tot = 100\n",
    "\n",
    "# Triplane @ AOA = 4 degrees | gap/chord = 1.00\n",
    "# create the triplane\n",
    "y_gap = 1.00\n",
    "x_t_1, y_t_1, x_t_2, y_t_2, bot_panels, mid_panels, top_panels, panelS_tri = \\\n",
    "create_triplane (x_m, y_m, x_n1,y_gap)\n",
    "#plot_triplane_panels(x_m, y_m, x_t_1, y_t_1, x_t_2, y_t_2, bot_panels, mid_panels, top_panels)\n",
    "L_tri, L_bottom_tri, L_middle_tri, L_top_tri = solve_triplane_ind(panelS_tri, freestream_4)\n",
    "tri_B = (L_bottom_tri/L_tri)*100 # % lift of the bottom wing\n",
    "tri_M = (L_middle_tri/L_tri)*100 # % lift of the middle wing\n",
    "tri_T = (L_top_tri/L_tri)*100 # % lift of the top wing\n",
    "tri_tot = 100\n",
    "\n",
    "# Grant's Values\n",
    "G_bi_bottom = (1/2.5)*100 # biplane bottom wing\n",
    "G_bi_top = (1.5/2.5)*100 # biplane top wing\n",
    "G_tri_bottom = (1.7/4.7)*100 # triplane bottom wing\n",
    "G_tri_middle = (1/4.7)*100 # triplane middle wing\n",
    "G_tri_top = (2/4.7)*100 # triplane top wing\n",
    "\n",
    "# biplane array\n",
    "percents_bi  = [bi_B, bi_T]\n",
    "positions_bi = numpy.arange(len(percents_bi)*2)\n",
    "\n",
    "# triplane array\n",
    "percents_tri  = [tri_B, tri_M, tri_T]\n",
    "positions_tri = numpy.arange(len(percents_tri)*2)\n",
    "\n",
    "# plot the biplane and triplane\n",
    "plot_ind_wings(positions_bi, percents_bi, positions_tri, percents_tri, G_bi_bottom, G_bi_top, \\\n",
    "                  G_tri_bottom,G_tri_middle,G_tri_top )"
   ]
  },
  {
   "cell_type": "markdown",
   "metadata": {},
   "source": [
    "Although the general trends are consistent between the panel method and Grant's data, it looks like the values of lift % are a little off for each of the wings of the triplane and biplane. Let's see exactly what the difference in value is."
   ]
  },
  {
   "cell_type": "code",
   "execution_count": 41,
   "metadata": {},
   "outputs": [
    {
     "name": "stdout",
     "output_type": "stream",
     "text": [
      "Difference in Lift %: Our values - Grant's values\n"
     ]
    },
    {
     "data": {
      "text/html": [
       "<div>\n",
       "<style scoped>\n",
       "    .dataframe tbody tr th:only-of-type {\n",
       "        vertical-align: middle;\n",
       "    }\n",
       "\n",
       "    .dataframe tbody tr th {\n",
       "        vertical-align: top;\n",
       "    }\n",
       "\n",
       "    .dataframe thead th {\n",
       "        text-align: right;\n",
       "    }\n",
       "</style>\n",
       "<table border=\"1\" class=\"dataframe\">\n",
       "  <thead>\n",
       "    <tr style=\"text-align: right;\">\n",
       "      <th></th>\n",
       "      <th>Biplane</th>\n",
       "      <th>Triplane</th>\n",
       "    </tr>\n",
       "  </thead>\n",
       "  <tbody>\n",
       "    <tr>\n",
       "      <th>bottom wing</th>\n",
       "      <td>9.0</td>\n",
       "      <td>-2.4</td>\n",
       "    </tr>\n",
       "    <tr>\n",
       "      <th>middle wing</th>\n",
       "      <td>0.0</td>\n",
       "      <td>8.5</td>\n",
       "    </tr>\n",
       "    <tr>\n",
       "      <th>top wing</th>\n",
       "      <td>-9.0</td>\n",
       "      <td>-6.2</td>\n",
       "    </tr>\n",
       "  </tbody>\n",
       "</table>\n",
       "</div>"
      ],
      "text/plain": [
       "             Biplane  Triplane\n",
       "bottom wing      9.0      -2.4\n",
       "middle wing      0.0       8.5\n",
       "top wing        -9.0      -6.2"
      ]
     },
     "execution_count": 41,
     "metadata": {},
     "output_type": "execute_result"
    }
   ],
   "source": [
    "data = numpy.round(numpy.array([[bi_B-G_bi_bottom, tri_B-G_tri_bottom],\n",
    "                   [0, tri_M-G_tri_middle],[bi_T-G_bi_top,tri_T-G_tri_top]]), decimals = 1)\n",
    "row_header = ['bottom wing','middle wing','top wing']\n",
    "column_header = (['Biplane', 'Triplane'])\n",
    "df = pandas.DataFrame(data, row_header, column_header)\n",
    "print('Difference in Lift %: Our values - Grant\\'s values')\n",
    "df"
   ]
  },
  {
   "cell_type": "markdown",
   "metadata": {},
   "source": [
    "Here, we can see that for the biplane our bottom wing has 9% more lift than Grant's and our top wing has 9% less lift than Grant's top wing. For the triplane, we can see that the main difference between our results and Grant's is the amount of lift produced by our middle wing, which has about 9% greater lift than Grant's middle wing. In Grant's model the middle wing is clearly influenced a lot more by the flow profiles of bottom and top wing, which cause changes in the pressure distribution above and below the wing, and as a result decrease the wing's lift. These differences in lift are reletively large, and again could be due to the fact that Grant may be getting his results experimentally. "
   ]
  },
  {
   "cell_type": "markdown",
   "metadata": {},
   "source": [
    "### Step 3: \n"
   ]
  },
  {
   "cell_type": "markdown",
   "metadata": {},
   "source": [
    "Let's take this comparison one step further by simulating the same type of biplanes and triplanes in XFLR5, and seeing how they compare to Grant's data and the results we've already accumulated using the panel method. \n",
    "<img src=\"xflr5_image.JPG\" height=\"400\" width=\"400\">\n",
    "In XFLR5 we will do 2 simulations:\n",
    "1. Create a biplane of which we will change the gap/chord ratio (from 0.75m - 1.5m) and angle of attack (from 4 - 10 degrees) to mimic the 1st table Grant presents. \n",
    "2. Create a biplane and triplane with a gap/chord ratio each of 1.25m of which we will change the angle of attack from 0 - 12 degrees to mimic the 2nd table that Grant presents. \n",
    "\n",
    "Each XFLR5 simulation was setup using the same GOE-174 airfoil used in this tutorial. Because the XFoil Direct Analysis tool didn't work for this airfoil (the soultion never converged both during inviscid and viscous flows over a large range of Reynolds Numbers), only the Wing and Plane Design tool was used. \n",
    "\n",
    "#### Defining the wings: \n",
    "\n",
    "Each wing was created with 30 panels in both the chord and spanwise directions, and with more panels grouped towards the leading and trailing edge of the airfoil. Each XFLR5 simulation was setup using 2 different plane types. One plane was made to directly mimic the airfoil that we created for the panel method (the wing had a chord = span = 1.0m), while another plane was made with a higher aspect ratio (chord = 1m, span = 20m) in an attempt to miminize the influence of wing-tip vortices on lift. A monoplane of both types was created as well as the reference value in making the tables for each simulation.\n",
    "<h4 align = 'center' color=#CC0000> ***Low Aspect Ratio*** &nbsp;&nbsp;&nbsp;&nbsp;&nbsp;&nbsp;&nbsp;&nbsp;&nbsp;&nbsp;&nbsp;&nbsp;&nbsp;&nbsp;&nbsp;&nbsp;&nbsp;&nbsp;&nbsp;&nbsp;&nbsp;&nbsp;&nbsp;&nbsp;&nbsp;&nbsp;&nbsp;&nbsp;&nbsp;&nbsp;&nbsp;&nbsp;&nbsp;&nbsp;&nbsp;&nbsp;&nbsp;&nbsp;&nbsp;&nbsp;&nbsp;&nbsp;&nbsp;&nbsp;&nbsp;&nbsp;&nbsp;&nbsp;&nbsp;&nbsp;&nbsp;&nbsp;&nbsp;&nbsp;&nbsp;&nbsp;&nbsp;&nbsp;&nbsp;&nbsp;&nbsp;&nbsp;&nbsp;&nbsp;&nbsp;&nbsp;&nbsp;&nbsp;&nbsp;&nbsp;&nbsp;&nbsp;&nbsp;&nbsp;&nbsp;&nbsp;&nbsp;&nbsp;&nbsp;&nbsp;&nbsp;&nbsp;&nbsp;&nbsp;&nbsp;&nbsp;&nbsp;&nbsp;&nbsp;&nbsp;&nbsp;&nbsp;&nbsp;&nbsp;&nbsp;***High Aspect Ratio***</h4>\n",
    "<table><tr>\n",
    "<td> <img src=\"plane_setup.JPG\" height=\"500\" width=\"500\"> </td>\n",
    "<td> <img src=\"high_AR_panels.JPG\" height=\"500\" width=\"500\"> </td>\n",
    "</tr></table>\n",
    "<table><tr>\n",
    "<td> <img src=\"biplane_setup.JPG\" height=\"500\" width=\"500\"> </td>\n",
    "<td> <img src=\"biplane_setup_high_AR.JPG\" height=\"500\" width=\"500\"> </td>\n",
    "</tr></table>\n",
    "<table><tr>\n",
    "<td> <img src=\"triplane_setup.JPG\" height=\"500\" width=\"500\"> </td>\n",
    "<td> <img src=\"triplane_high_AR.JPG\" height=\"500\" width=\"500\"> </td>\n",
    "</tr></table>\n",
    "\n",
    "#### Defining the Analysis:\n",
    "\n",
    "All airfoils were tested in a type 1 (fixed-speed) study with an oncoming flow of 1 m/s with a fluid density of 1 $kg/m^3$. An inviscid (non-viscous) horseshoe vortex (VLM1: No slide-slip) study was done. Because the study was inviscid, the kinematic viscosity was left unchanged from the default value of 1.5e-5 $m^2/s$. It was also seen that results did not change if this value was changed to 1 $m^2/s$. The angle of attack range and increment were set to the values appropriate for simulation parts 1 and 2."
   ]
  },
  {
   "cell_type": "markdown",
   "metadata": {},
   "source": [
    "#### Results:\n",
    "In recreating the two tables that Grant presents using XFLR5 the lift coefficient was used instead of lift. This decision was made as XFLR5 readily and easily outputs lift coefficient results. Also, because we are looking at the biplane lift or CL as a percentage of monoplane lift or CL, and not the values of lift or CL themselves, and because CL is proportional to lift, our results (which use CL values) should be comparable to the results from the panel method and Grant's data. \n",
    "<h4 align = 'center' color=#CC0000> ***Low Aspect Ratio*** &nbsp;&nbsp;&nbsp;&nbsp;&nbsp;&nbsp;&nbsp;&nbsp;&nbsp;&nbsp;&nbsp;&nbsp;&nbsp;&nbsp;&nbsp;&nbsp;&nbsp;&nbsp;&nbsp;&nbsp;&nbsp;&nbsp;&nbsp;&nbsp;&nbsp;&nbsp;&nbsp;&nbsp;&nbsp;&nbsp;&nbsp;&nbsp;&nbsp;&nbsp;&nbsp;&nbsp;&nbsp;&nbsp;&nbsp;&nbsp;&nbsp;&nbsp;&nbsp;&nbsp;&nbsp;&nbsp;&nbsp;&nbsp;&nbsp;&nbsp;&nbsp;&nbsp;&nbsp;&nbsp;&nbsp;&nbsp;&nbsp;&nbsp;&nbsp;&nbsp;&nbsp;&nbsp;&nbsp;&nbsp;&nbsp;&nbsp;&nbsp;***High Aspect Ratio***</h4>\n",
    "<table><tr>\n",
    "<td> <img src=\"table_1_low_AR.JPG\" height=\"300\" width=\"300\"> </td>\n",
    "<td> <img src=\"table_1_high_AR.JPG\" height=\"325\" width=\"325\"> </td>\n",
    "</tr></table>\n",
    "<table><tr>\n",
    "<td> <img src=\"table_2_low_AR.JPG\" height=\"300\" width=\"300\"> </td>\n",
    "<td> <img src=\"table_2_high_AR.JPG\" height=\"325\" width=\"325\"> </td>\n",
    "</tr></table>\n",
    "\n",
    "Comparing the XFLR5 high aspect ratio results to the low aspect ratio results, we can see that the high aspect ratio results closely follow the table 1 and 2 results that we got using the panel method, while the low aspect ratio results are relatively far off (~8-10% larger). We can also see that there is less of a noticable difference in the lift % between the monoplane, biplane (gap/chord = 1.25), and triplane (gap/chord = 1.25) over 0-12 degrees angle of attack than is presented by our panel method results, by the high aspect ratio XFLR5 results, and by Grant. This is likely due to the influence of wing-tip vorticies, which become dominant for wings of low aspect ratios and will affect that lift and lift coefficient of the wing. "
   ]
  },
  {
   "cell_type": "markdown",
   "metadata": {},
   "source": [
    "### Conclusion:\n",
    "From our work using the panel method and XFLR5, we can see that while the results we have gathered are reletively close to the results that Grant presents in <i> \"Model Airplane Design and Theory of Flight\" </i>, there are slight differences in both values and trends. As has been stated before, Grant doesn't explicitly explain how he comes to the resluts he presents (if they are theoretical or experimentally based) and what assumptions he is using. Because of this it is hard to point to a specific reason why the results differ. However, if it is true that Grant's results are experimentally based, they may be different because of viscous flow and the presence of struts in the flow path, both of which will change the flow profile around and lift of the wings of a biplane and triplane."
   ]
  },
  {
   "cell_type": "markdown",
   "metadata": {},
   "source": [
    "### Challenge\n",
    "If we look at pictures of biplanes and triplanes used in WWI we can see that most do not have the wings placed vertically above and below one another as we have done in this tutorial. Instead, the lower wings are often slightly behind (in the x direction) the upper wings in a \"staggered\" configuration. How would our results change if we changed the wing geometries by adding staggering?\n",
    "\n",
    "<img src=\"stagger.JPG\" height=\"200\" width=\"500\">\n",
    "\n",
    "On p.38-39 Grant states, \"When the wings are staggered 0.4 of the chord, both lift and efficiency increase 5%. A negative stagger of 0.4 the chord reduces lift and in most cases efficiency in the same ratio. A positive stagger of ½ of the chord is best for model planes.\"\n",
    "\n",
    "Tasks: \n",
    "\n",
    "1. Create a biplane with a positive stagger of 0.4 chord and a biplane with a negative stagger of 0.4 chord.\n",
    "2. Create a triplane with a positive stagger of 0.4 chord and a triplane with a negative stagger of 0.4 chord.\n",
    "3. Compare results to Grant's claim of a 5% increase in lift for 0.4x chord positive stagger and 5% decrease in lift for 0.4x negative stagger, with reference to a biplane and triplane with a gap/chord ratio of 1.25.\n",
    "4. Try varying the amount of positive and negative stagger for both planes past 0.4x chord and see how this affects the change in lift.\n",
    "5. Why do you think the lift is affected when the wings are staggered?"
   ]
  },
  {
   "cell_type": "markdown",
   "metadata": {},
   "source": [
    "### References:\n",
    "\n",
    "1. Grant, Charles \"<i>Model Airplane Design and Theory of Flight</i>,\" Air Age Inc., 1944, p.32-39 {https://babel.hathitrust.org/cgi/pt?id=mdp.39015006062536;view=1up;seq=52}\n",
    "2. Wikipedia, \"Biplane: Advantages and Disadvantages,\" {https://en.wikipedia.org/wiki/Biplane}\n",
    "3. Wikipedia, \"Monoplane: History,\" {https://en.wikipedia.org/wiki/Monoplane}\n",
    "4. Wikipedia, \"Triplane: Design principles, History,\" {https://en.wikipedia.org/wiki/Triplane}\n",
    "5. Aviation Stack Exchange, \"Why are there no longer any biplanes?\" {https://aviation.stackexchange.com/questions/12143/why-are-there-no-longer-any-biplanes}\n",
    "6. Aviation Stack Exchange, \"What special handling characteristics or techniques do biplanes have?\" {https://aviation.stackexchange.com/questions/9981/what-special-handling-characteristics-or-techniques-do-biplanes-have?lq=1}\n",
    "7. Aviation Stack Exchange, \"What are the advantages and disadvantages of a monoplane, biplane and triplane? [duplicate]\" {https://aviation.stackexchange.com/questions/25778/what-are-the-advantages-and-disadvantages-of-a-monoplane-biplane-and-triplane?rq=1}\n",
    "8. Wikipedia, \"Manfred von Richthofen: Piloting career,\" {https://en.wikipedia.org/wiki/Manfred_von_Richthofen}"
   ]
  },
  {
   "cell_type": "markdown",
   "metadata": {},
   "source": [
    "#### Image Credits:\n",
    "1. Lloyd Leichentritt, \"Fokker Dr.I 127/17\" {http://www.fokkerdr1.com/127_17.htm}\n",
    "2. Bryan R. Swopes, \"This Day in Aviation: 17 September 1916,\" Sept. 2018 {https://www.thisdayinaviation.com/tag/albatros-d-ii/}"
   ]
  }
 ],
 "metadata": {
  "kernelspec": {
   "display_name": "Python 3",
   "language": "python",
   "name": "python3"
  },
  "language_info": {
   "codemirror_mode": {
    "name": "ipython",
    "version": 3
   },
   "file_extension": ".py",
   "mimetype": "text/x-python",
   "name": "python",
   "nbconvert_exporter": "python",
   "pygments_lexer": "ipython3",
   "version": "3.6.2"
  }
 },
 "nbformat": 4,
 "nbformat_minor": 2
}
