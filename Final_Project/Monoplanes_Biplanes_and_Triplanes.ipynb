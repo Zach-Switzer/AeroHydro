{
 "cells": [
  {
   "cell_type": "markdown",
   "metadata": {},
   "source": [
    " Created by Zachary Switzer &nbsp;&nbsp;|&nbsp;&nbsp; Spring 2019 &nbsp;&nbsp;|&nbsp;&nbsp; The George Washington University - MAE 6226"
   ]
  },
  {
   "cell_type": "markdown",
   "metadata": {},
   "source": [
    "## <P style = \"text-align: center;\"> Performance of Monoplanes, Biplanes, and Triplanes"
   ]
  },
  {
   "cell_type": "markdown",
   "metadata": {},
   "source": [
    "### <P style = \"text-align: center;\"> A Comparison to <i> \"Model Airplane Design and Theory of Flight\" </i>by Charles Grant "
   ]
  },
  {
   "cell_type": "markdown",
   "metadata": {},
   "source": [
    "<img src=\"Fokker_DR1.JPG\" height=\"300\" width=\"700\">"
   ]
  },
  {
   "cell_type": "markdown",
   "metadata": {},
   "source": [
    "### What are Monoplanes, Biplanes, and Triplanes?\n",
    "Most people have seen or at least have a general undertsanding of what biplanes (aircraft with two fixed-wings, in which one is stacked above the other) look like, and nowadays almost everyone has ridden in a monoplane (aircraft with a single fixed-wing). However, planes with more wings have historically been used much less and as a result are generally less widely known. Triplanes are also fixed wing aircraft, in which wings are stacked above one another, but have three wings instead of two. "
   ]
  },
  {
   "cell_type": "markdown",
   "metadata": {},
   "source": [
    "### When were biplanes and triplanes used and why don't we see them as much nowadays?\n",
    "Biplanes and triplanes were mainly used in WWI due to the fact that the technology for cantilever wings, which is used in monoplanes, had not been fully developed, and the struts between wings in biplanes and triplanes allowed for greater wing stability. The box girder bracing structure of biplanes and triplanes evenly distributed loads throughout the aircraft and allowed for light materials to be used in the wings of planes. With the developments in engine power and wing structural design in the period after WWI, monoplanes gained popularity as they overcame the speed limit inherent in biplanes and triplanes due to the excess drag created by their support struts.\n",
    "\n",
    "Biplanes and triplanes aren’t utilized as much nowadays because of the speed and lift limitations that are present due to their design. The struts that connect wings and act as structural support also disrupt the flow around the wings and create excess drag that limits speed of the aircraft. Distance between wings also affects the flow around airfoils and can significantly decrease the overall lift of the aircraft if wings are placed too close to one another. However, this decrease in overall lift also allows biplanes and triplanes to fly at larger angles of attack and lower speeds before stalling compared to monoplanes. "
   ]
  },
  {
   "cell_type": "markdown",
   "metadata": {},
   "source": [
    "### The Goal:\n",
    "This project is motivated by and follows the incredibly insightful book <i> \"Model Airplane Design and Theory of Flight\" </i>  by Charles Grant, in which Grant compares the performance of monoplanes, biplanes, and triplanes. In this tutorial we will compare the results (mainly in terms of lift, streamlines, and Cp) gained from a Python-implemented Panel Method and an XFLR5 model to the results described by Charles Grant. By the end of this tutorial you will not only have a much greater understanding of the theory behind monoplanes, biplanes, and triplanes but also (hopefully!) a greater appreciation for the incredible technological advances that have gone into the planes that we fly in today and often take for granted."
   ]
  },
  {
   "cell_type": "markdown",
   "metadata": {},
   "source": [
    "<img src=\"Red_Baron_Albatros.JPG\" height=\"300\" width=\"700\">"
   ]
  },
  {
   "cell_type": "markdown",
   "metadata": {},
   "source": [
    "We begin this tutorial as we do with every great AeroHydro tutorial: by importing our libraries and loading our airfoil geometry! \n",
    "\n",
    "Because biplanes and triplanes dominated WWI, for this tutorial we will use the Gottingen 174 airfoil from the Albatros D.II, which was used by Manfred von Richthofen (the Red Baron) in November 1916 when he shot down his famous adversary British ace Major Lanoe Hawker VC. This airfoil was acquired from airfoiltools.com and can be found under the name \"GOE-174 (Albatros 5020)\". "
   ]
  },
  {
   "cell_type": "code",
   "execution_count": 1,
   "metadata": {},
   "outputs": [],
   "source": [
    "# importing libraries\n",
    "import numpy\n",
    "import os\n",
    "from scipy import integrate, linalg\n",
    "import math\n",
    "from helper import *\n",
    "import pandas\n",
    "from matplotlib import pyplot\n",
    "%matplotlib inline"
   ]
  },
  {
   "cell_type": "code",
   "execution_count": 2,
   "metadata": {},
   "outputs": [],
   "source": [
    "# load the geometry of the GOE-174 airfoil\n",
    "GOE_174 = os.path.join('data', 'GOE-174.csv')\n",
    "with open(GOE_174, 'r') as infile:\n",
    "    x_m, y_m = numpy.loadtxt(infile, dtype=float, unpack=True, delimiter=',')\n",
    "    \n",
    "# determine the number of points in the geometry\n",
    "N = len(x_m)\n",
    "#print(N)"
   ]
  },
  {
   "cell_type": "markdown",
   "metadata": {},
   "source": [
    "And just like that we've already created the airfoil that we'll use to simulate the monplane wing.\n",
    "\n",
    "The first thing that we'll need to do to venture out of the realm of monoplanes is to add multiple airfoils to the flow and manipulate their position in the space that we're testing in. To do this, let's create a simple function to translate the airfoil geometry from its primary location (the origin) to another location of our choosing. \n",
    "\n",
    "This function works off the simple principle that if we want to move a point (or group of points that make up an airfoil in this case) we need to add an offset value to each point's x and y coordinates. \n",
    "\n",
    "$$x' =\\ x + x_{new}$$\n",
    "$$y' =\\ y + y_{new}$$"
   ]
  },
  {
   "cell_type": "code",
   "execution_count": 3,
   "metadata": {},
   "outputs": [],
   "source": [
    "# move the geometry of the airfoils\n",
    "def translate_geo(x_foil, y_foil, x_new, y_new):\n",
    "    x = x_foil+x_new\n",
    "    y = y_foil+y_new\n",
    "    return x,y"
   ]
  },
  {
   "cell_type": "markdown",
   "metadata": {},
   "source": [
    "Great! Now we can position two or three airfoils in the same flowstream and simulate a biplane or triplane.\n",
    "\n",
    "Before we get ahead of ourselves though, we'll want to consult <i> \"Model Airplane Design and Theory of Flight\" </i> and get an idea of what our setup should be.\n",
    "\n",
    "<img src=\"gap_length.JPG\">\n",
    "\n",
    "From p.32 Grant states that, “The gap between two airfoils affects efficiency and lift; while it is convenient to place them close, the closer they are the less lift is produced as a combination, and efficiency is reduced.” He also mentions that, \"If the wings are set so the gap equals three times the chord, there is practically no loss of lift or efficiency.\" \n",
    "\n",
    "Grant then adds, \"It is usually inconvenient to combine wings with a gap greater than 1 ½ times the chord. Customarily the gap equals the wing chord; for by making the gap wider, struts are lengthened and enough added resistance is produced to neutralize any gain in efficiency. It is suggested that the gap equal 1 ½ times the chord when applying this principle to models. Never use a gap less than once, nor more than three times the chord, for there is no advantage in doing so.\""
   ]
  },
  {
   "cell_type": "markdown",
   "metadata": {},
   "source": [
    "<img src=\"BiPlane_Lift_Chord_vs_Gap.JPG\" height=\"500\" width=\"700\">"
   ]
  },
  {
   "cell_type": "markdown",
   "metadata": {},
   "source": [
    "Grant then presents the figure above in which the lift of biplanes at different angles of attack and with different gap to chord ratios (in % values) are compared to a monoplane's lift (assuming the same wing area), which is set at a reference value of 100%. Since we are only focused on the airfoil and not the full wing itself, we will use wings of the same chord length and assume that the wing span is also the same (since area = chord x span). "
   ]
  },
  {
   "cell_type": "markdown",
   "metadata": {},
   "source": [
    "### Step 1:\n",
    "Following the information Grant has just presented, our first step will be to create biplanes with the same gap/chord ratios and angles of attack presented in the table above and see if our lift values match Grant's. We will then continue to increase the gap/chord ratio and see if the lift vlaue of the biplane actually approaches that of the monoplane as the gap/chord ratio approaches 3.\n",
    "\n",
    "During this tutorial we will not do any efficiency evaluations, as efficiency (Lift/Drag) requires us to calculate drag, which we can't do under the invisicid flow assumption which we will be following. \n",
    "\n",
    "Since the chord length of our airfoil is 1 (as the airfoil's leading edge is at x=0 and its trailing edge is at x=1) we only need to focus on the gap length. Let's first create each of the four biplanes described in the gap/chord vs lift table."
   ]
  },
  {
   "cell_type": "code",
   "execution_count": 4,
   "metadata": {},
   "outputs": [],
   "source": [
    "# create the 2nd airfoil for the biplane\n",
    "# move the second airfoil up by the gap length in the y direction and 0.0 in the x direction\n",
    "\n",
    "# gap 1: 0.75\n",
    "x_n1, y_n1 = 0.0, 0.75\n",
    "x_bi_1, y_bi_1 = translate_geo(x_m, y_m, x_n1, y_n1)\n",
    "\n",
    "# gap 2: 1.0\n",
    "x_n2, y_n2 = 0.0, 1.0\n",
    "x_bi_2, y_bi_2 = translate_geo(x_m, y_m, x_n2, y_n2)\n",
    "\n",
    "# gap 3: 1.25\n",
    "x_n3, y_n3 = 0.0, 1.25\n",
    "x_bi_3, y_bi_3 = translate_geo(x_m, y_m, x_n3, y_n3)\n",
    "\n",
    "# gap 4: 1.5\n",
    "x_n4, y_n4 = 0.0, 1.5\n",
    "x_bi_4, y_bi_4 = translate_geo(x_m, y_m, x_n4, y_n4)"
   ]
  },
  {
   "cell_type": "code",
   "execution_count": 5,
   "metadata": {},
   "outputs": [
    {
     "data": {
      "image/png": "[encoded data removed]",
      "text/plain": [
       "<Figure size 1008x648 with 4 Axes>"
      ]
     },
     "metadata": {},
     "output_type": "display_data"
    }
   ],
   "source": [
    "# plot the geometry\n",
    "subplots_plot_biplane_geo(x_m, y_m,x_bi_1, y_bi_1,x_bi_2, y_bi_2,x_bi_3, y_bi_3,x_bi_4, y_bi_4)"
   ]
  },
  {
   "cell_type": "markdown",
   "metadata": {},
   "source": [
    "### The Panel Method:\n",
    "Now that our 1st biplane geometry has been created we'll need to incorporate the angle of attack values and eventually solve for lift in order to match Grant's table. To do this we'll use the Panel Method as described in Lesson 11. The first step in the panel method will be to discretize the airfoil geometries into panels, at the center of which we will do our calculations. The function for discretizing the panels can be found in helper.py."
   ]
  },
  {
   "cell_type": "code",
   "execution_count": 6,
   "metadata": {},
   "outputs": [],
   "source": [
    "# create the panel class\n",
    "class Panel:\n",
    "    def __init__(self, xa, ya, xb, yb):\n",
    "\n",
    "        self.xa, self.ya = xa, ya  # panel starting-point\n",
    "        self.xb, self.yb = xb, yb  # panel ending-point\n",
    "        \n",
    "        self.xc, self.yc = (xa + xb) / 2, (ya + yb) / 2  # panel center\n",
    "        self.length = numpy.sqrt((xb - xa)**2 + (yb - ya)**2)  # panel length\n",
    "        \n",
    "        # orientation of panel (angle between x-axis and panel's normal)\n",
    "        if xb - xa <= 0.0:\n",
    "            self.beta = numpy.arccos((yb - ya) / self.length)\n",
    "        elif xb - xa > 0.0:\n",
    "            self.beta = numpy.pi + numpy.arccos(-(yb - ya) / self.length)\n",
    "        \n",
    "        # panel location\n",
    "        if self.beta <= numpy.pi:\n",
    "            self.loc = 'upper'  # upper surface\n",
    "        else:\n",
    "            self.loc = 'lower'  # lower surface\n",
    "        \n",
    "        self.sigma = 0.0  # source strength\n",
    "        self.vt = 0.0  # tangential velocity\n",
    "        self.cp = 0.0  # pressure coefficient\n",
    "\n",
    "# define the panels\n",
    "def define_panels(x, y, N):\n",
    "    \n",
    "    # becuase we were given the end-points in the geometry, we don't need to create and map the circle\n",
    "    # create panels\n",
    "    panels = numpy.empty(N, dtype=object)\n",
    "    \n",
    "    for i in range(N):\n",
    "        panels[i] = Panel(x[i], y[i], x[i + 1], y[i + 1])\n",
    "    \n",
    "    return panels"
   ]
  },
  {
   "cell_type": "code",
   "execution_count": 7,
   "metadata": {},
   "outputs": [],
   "source": [
    "# create the panels / discretize the geometry\n",
    "# we use N-1 as there are N total points so there should be N-1 panels\n",
    "\n",
    "# discretize the lower airfoil\n",
    "lower_panels_bi = define_panels(x_m, y_m, N-1)\n",
    "\n",
    "# discretize each of the upper airfoils\n",
    "# gap 1: 0.75\n",
    "upper_panels_bi_1 = define_panels(x_bi_1, y_bi_1, N-1)\n",
    "# gap 2: 1.00\n",
    "upper_panels_bi_2 = define_panels(x_bi_2, y_bi_2, N-1)\n",
    "# gap 3: 1.25\n",
    "upper_panels_bi_3 = define_panels(x_bi_3, y_bi_3, N-1)\n",
    "# gap 4: 1.50\n",
    "upper_panels_bi_4 = define_panels(x_bi_4, y_bi_4, N-1)"
   ]
  },
  {
   "cell_type": "code",
   "execution_count": 8,
   "metadata": {},
   "outputs": [
    {
     "data": {
      "image/png": "[encoded data removed]",
      "text/plain": [
       "<Figure size 1008x648 with 4 Axes>"
      ]
     },
     "metadata": {},
     "output_type": "display_data"
    }
   ],
   "source": [
    "# modify the discretized panels for plotting\n",
    "subplots_plot_biplane_panels(x_m, y_m,x_bi_1, y_bi_1,x_bi_2, y_bi_2,x_bi_3, y_bi_3,\\\n",
    "                             x_bi_4, y_bi_4,lower_panels_bi,upper_panels_bi_1, \\\n",
    "                             upper_panels_bi_2,upper_panels_bi_3, upper_panels_bi_4)"
   ]
  },
  {
   "cell_type": "markdown",
   "metadata": {},
   "source": [
    "### Freestream Condition\n",
    "Great! Now that we've discretized our geometries into panels we can get down to incorporating the angles of attack and solving for lift.\n",
    "\n",
    "First let's define our Freestream condition. For the freestream we need to define the flow speed $U_\\infty$ and the angle of attack $\\alpha=0$. Setting a different value for angle of attack will give us each of the columns in the gap/chord vs lift table described by Grant. "
   ]
  },
  {
   "cell_type": "code",
   "execution_count": 9,
   "metadata": {},
   "outputs": [],
   "source": [
    "# create the freestream\n",
    "class Freestream:\n",
    "    def __init__(self, u_inf=1.0, alpha=0.0):\n",
    "        self.u_inf = u_inf\n",
    "        self.alpha = numpy.radians(alpha)  # degrees to radians\n",
    "        \n",
    "# define freestream conditions\n",
    "freestream_4 = Freestream(u_inf=1.0, alpha=4.0)\n",
    "freestream_6 = Freestream(u_inf=1.0, alpha=6.0)\n",
    "freestream_8 = Freestream(u_inf=1.0, alpha=8.0)\n",
    "freestream_10 = Freestream(u_inf=1.0, alpha=10.0)"
   ]
  },
  {
   "cell_type": "markdown",
   "metadata": {},
   "source": [
    "### Flow Tangency Boundary Condition\n",
    "\n",
    "Now we will incorporate the flow tangency boundary condition. This will make the body geometry correspond to a dividing streamline, as flow is not permitted to penetrate through the panels. To do this for each panel $i$, we make $u_n=0$ at $(x_{c_i},y_{c_i})$, and we will add a source strength $\\sigma$ and a vortex strength $\\gamma$ to each panel. We will follow the same assumptions seen in lessons 10 and 11 for $\\sigma$ and $\\gamma$. This will lead to:\n",
    "\n",
    "$$\n",
    "\\begin{align*}\n",
    "0 &= V_\\infty \\cos \\left(\\alpha-\\beta_i\\right) + \\frac{\\sigma_i}{2} \\\\\n",
    "&+ \\sum_{j=1,j\\neq i}^N \\frac{\\sigma_j}{2\\pi} \\int_j \\frac{\\partial}{\\partial n_i} \\ln \\left(\\sqrt{(x_{c_i}-x_j(s_j))^2+(y_{c_i}-y_j(s_j))^2} \\right) {\\rm d}s_j \\\\\n",
    "&- \\sum_{j=1,j\\neq i}^N \\frac{\\gamma}{2\\pi} \\int_j \\frac{\\partial}{\\partial n_i} \\tan^{-1} \\left(\\frac{y_{c_i}-y_j(s_j)}{x_{c_i}-x_j(s_j)}\\right) {\\rm d}s_j\n",
    "\\end{align*}\n",
    "$$\n",
    "\n",
    "Let's run the functions for the integral, and the source and vortex contributions. They can be seen with other functions in helper.py."
   ]
  },
  {
   "cell_type": "markdown",
   "metadata": {},
   "source": [
    "To make things easier for us let's also combine the two discretized geometries of the upper and lower wing into one list that we can use to find the source and vortex contributions from. Then let's use this to find the source and vortex contibutions.\n",
    "\n",
    "From now on though, let's just worry about working with the biplane with a gap/chord ratio = 0.75. We'll incorporate the others later."
   ]
  },
  {
   "cell_type": "code",
   "execution_count": 10,
   "metadata": {},
   "outputs": [],
   "source": [
    "# combine the discretized geometries\n",
    "# gap 1: 0.75\n",
    "panelS_bi_1=numpy.concatenate((lower_panels_bi, upper_panels_bi_1))\n",
    "# gap 2: 1.00\n",
    "panelS_bi_2=numpy.concatenate((lower_panels_bi, upper_panels_bi_2))\n",
    "# gap 3: 1.25\n",
    "panelS_bi_3=numpy.concatenate((lower_panels_bi, upper_panels_bi_3))\n",
    "# gap 4: 1.50\n",
    "panelS_bi_4=numpy.concatenate((lower_panels_bi, upper_panels_bi_4))\n",
    "\n",
    "# 1st biplane\n",
    "# gap 1: 0.75\n",
    "A_source_bi_1 = source_contribution_normal(panelS_bi_1)\n",
    "B_vortex_bi_1 = vortex_contribution_normal(panelS_bi_1)"
   ]
  },
  {
   "cell_type": "markdown",
   "metadata": {},
   "source": [
    "### Solve the Linear System\n",
    "Because each airfoil has N-1 panels, there will be $(N-1)+(N-1)+2$ unknowns, with $(N-1)+(N-1)$ unknowns corresponding to the source strengths, and 2 unknowns corresponding to the two vortex strengths.\n",
    "\n",
    "The following equations can then be found for the center of each $i^{th}$ panel:\n",
    "\n",
    "$$\n",
    "u_{n_i} \\left( {x_c}_i, {y_c}_i \\right) = b^n_i + \\sum_{j = 1}^{2(N-1)} A^n_{ij} \\sigma_j + \\sum_{j = 1}^{(N-2)} B^n_{ij} \\gamma_a + \\sum_{j = (N-1)}^{2(N-1)} B^n_{ij} \\gamma_b\n",
    "$$\n",
    "\n",
    "$$\n",
    "u_{t_i} \\left( {x_c}_i, {y_c}_i \\right) = b^t_i + \\sum_{j = 1}^{2(N-1)} B^n_{ij} \\sigma_j - \\sum_{j = 1}^{(N-2)} A^n_{ij} \\gamma_a - \\sum_{j = (N-1)}^{2(N-1)} A^n_{ij} \\gamma_b\n",
    "$$\n",
    "\n",
    "with:\n",
    "\n",
    "$$\n",
    "A^n_{ij} = \\frac{1}{2 \\pi} \\int_0^{l_j} \\frac{\\left( {x_c}_i - \\xi_j(s) \\right) \\cos\\beta_i + \\left( {y_c}_i - \\eta_j(s) \\right) \\sin\\beta_i}{\\left( {x_c}_i - \\xi_j(s) \\right)^2 + \\left( {y_c}_i - \\eta_j(s) \\right)^2} ds\n",
    "$$\n",
    "\n",
    "$$\n",
    "B^n_{ij} = \\frac{1}{2 \\pi} \\int_0^{l_j} \\frac{\\left( {y_c}_i - \\eta_j(s) \\right) \\cos\\beta_i - \\left( {x_c}_i - \\xi_j(s) \\right) \\sin\\beta_i}{\\left( {x_c}_i - \\xi_j(s) \\right)^2 + \\left( {y_c}_i - \\eta_j(s) \\right)^2} ds\n",
    "$$\n",
    "\n",
    "Since there are $(N-1)+(N-1)+2$ unknowns we will need two Kutta Conditions to solve for each vortex strength that is needed to keep the stagnation point attached to the trailing edge of each airfoil. \n",
    "\n",
    "$$\n",
    "u_{t_1} + u_{t_{(N-2)}} = 0\n",
    "$$\n",
    "\n",
    "$$\n",
    "u_{t_{(N-1)}} + u_{t_{2(N-1)}} = 0\n",
    "$$\n",
    "\n",
    "In order to solve for the different source strengths at each panel and the vortex strength values for each airfoil we'll need to build a linear system. This system will incorporate the source and vortex contributions as well as the freestream contributions. The linear system should take the form: \n",
    "\n",
    "$$[A][\\sigma,\\gamma] = [b]$$\n",
    "\n",
    "Here, A will be made up of $A^n_{ij}$, which will be used to solve for the sources, $\\sum_{j = 1}^{(N-2)} B^n_{ij}$ and $\\sum_{j = (N-1)}^{2(N-1)} B^n_{ij}$, which will be used to solve for the vortex strengths, and finally the kutta conditions on the last 2 rows. b will be made up of the freestream terms. \n",
    "\n",
    "All of the functions that we will use to do this can be found in helper.py. Let's run the rest of the functions that we'll need to solve for the linear system."
   ]
  },
  {
   "cell_type": "markdown",
   "metadata": {},
   "source": [
    "Now let's solve the linear system for the 1st biplane!"
   ]
  },
  {
   "cell_type": "code",
   "execution_count": 11,
   "metadata": {},
   "outputs": [],
   "source": [
    "# For AOA = 4 degrees build the singularity matrix\n",
    "# gap 1: 0.75\n",
    "A_bi_1 = build_singularity_matrix(A_source_bi_1, B_vortex_bi_1, N)\n",
    "b_bi4_1 = build_freestream_rhs(panelS_bi_1, freestream_4, N)\n",
    "\n",
    "# solve for the singularity matrices\n",
    "strengths_bi4_1 = numpy.linalg.solve(A_bi_1,b_bi4_1)\n",
    "\n",
    "#store the strengths on each panel\n",
    "for i, panel in enumerate(panelS_bi_1):\n",
    "    panel.sigma = strengths_bi4_1[i]\n",
    "\n",
    "# store the circulation density\n",
    "gamma_bi4_1 = strengths_bi4_1[-2:]"
   ]
  },
  {
   "cell_type": "markdown",
   "metadata": {},
   "source": [
    "Now let's create functions to compute the tangential velocity and surface pressure coefficient. The pressure coefficient for each panel will be: $$C_{p_i} = 1 - \\left(\\frac{V_{t_i}}{U_\\infty}\\right)^2$$\n",
    "This can be found in helper.py as well."
   ]
  },
  {
   "cell_type": "code",
   "execution_count": 12,
   "metadata": {},
   "outputs": [],
   "source": [
    "# compute the tangential velocity\n",
    "compute_tangential_velocity(panelS_bi_1, freestream_4, gamma_bi4_1, A_source_bi_1, B_vortex_bi_1, N)\n",
    "        \n",
    "# compute the pressure coefficient\n",
    "compute_pressure_coefficient(panelS_bi_1, freestream_4)"
   ]
  },
  {
   "cell_type": "markdown",
   "metadata": {},
   "source": [
    "Now let's check the accuracy. We should see that the sum of all of the sources approaches 0 closed body."
   ]
  },
  {
   "cell_type": "code",
   "execution_count": 13,
   "metadata": {},
   "outputs": [
    {
     "name": "stdout",
     "output_type": "stream",
     "text": [
      "sum of singularity strengths: -0.011056\n"
     ]
    }
   ],
   "source": [
    "# check that the work so far is correct => for a closed body the sum of the strengths must = 0\n",
    "accuracy_bi4_1 = sum([panel.sigma*panel.length for panel in panelS_bi_1])\n",
    "print('sum of singularity strengths: {:0.6f}'.format(accuracy_bi4_1))"
   ]
  },
  {
   "cell_type": "markdown",
   "metadata": {},
   "source": [
    "Looks good! Now let's solve for the lift. Here lift will be $L = - \\int_{\\text{main}} p \\mathbf{n} \\cdot \\mathbf{j} dl - \\int_{\\text{flap}} p \\mathbf{n} \\cdot \\mathbf{j} dl$, where $\\mathbf{j}$ is the unit vector in the direction of the lift force. Pressure can be found from bernoulli's equation: $P = 0.5 P_\\infty \\rho (U_{\\infty}^2 - U_{ti}^2) $."
   ]
  },
  {
   "cell_type": "code",
   "execution_count": 14,
   "metadata": {},
   "outputs": [
    {
     "name": "stdout",
     "output_type": "stream",
     "text": [
      "This is the value of the lift for the system: \n",
      "0.7025208209664381\n"
     ]
    }
   ],
   "source": [
    "# assume that P_inf = 0, density = 1 => use bernouli's equation\n",
    "P_inf=0\n",
    "den=1\n",
    "u_inf=1.0\n",
    "\n",
    "# tangential velocity of the panels\n",
    "foil_vt = [panel.vt for panel in panelS_bi_1[:-(N-1)]]\n",
    "flap_vt = [panel.vt for panel in panelS_bi_1[-(N-1):]]\n",
    "\n",
    "# length of the panels\n",
    "foil_len = [panel.length for panel in panelS_bi_1[:-(N-1)]]\n",
    "flap_len = [panel.length for panel in panelS_bi_1[-(N-1):]]\n",
    "\n",
    "# angle of the panels called n*j (beta)\n",
    "foil_angle = [panel.beta for panel in panelS_bi_1[:-(N-1)]]\n",
    "flap_angle = [panel.beta for panel in panelS_bi_1[-(N-1):]]\n",
    "\n",
    "# foil lift array\n",
    "loquat = numpy.empty(N-1, dtype=float)\n",
    "for i in range (N-1):\n",
    "    loquat[i]=-(P_inf+0.5*den*(u_inf**2-foil_vt[i]**2))*foil_len[i]*math.sin(foil_angle[i])\n",
    "    \n",
    "# flap lift array\n",
    "mango = numpy.empty(N-1, dtype=float)\n",
    "for i in range (N-1):\n",
    "    mango[i]=-(P_inf+0.5*den*(u_inf**2-flap_vt[i]**2))*flap_len[i]*math.sin(flap_angle[i])\n",
    "\n",
    "# summing the lift arrays and ading them up\n",
    "L_bi4_1=numpy.sum(loquat)+numpy.sum(mango)\n",
    "print ('This is the value of the lift for the system: '+'\\n'+str(L_bi4_1))"
   ]
  },
  {
   "cell_type": "markdown",
   "metadata": {},
   "source": [
    "Great! But this value for lift doesn't really mean much without referencing to the other values that we still need to solve for. With that being said let's solve for the rest of the values in the gap/chord vs lift table. But before we get ahead of ourselves let's create a function to do all of these steps so that we don't have to write all of it out everytime."
   ]
  },
  {
   "cell_type": "code",
   "execution_count": 15,
   "metadata": {},
   "outputs": [
    {
     "name": "stdout",
     "output_type": "stream",
     "text": [
      "This is the value of the lift for the system: \n",
      "0.7025208209664381\n"
     ]
    }
   ],
   "source": [
    "L_test = solve_biplane(panelS_bi_1, freestream_4, N)\n",
    "print('This is the value of the lift for the system: '+'\\n'+str(L_test))"
   ]
  },
  {
   "cell_type": "markdown",
   "metadata": {},
   "source": [
    "That should make things easier! Let's go ahead and run all our values through it to get the lifts for all of the biplane models at each angle of attack."
   ]
  },
  {
   "cell_type": "code",
   "execution_count": 16,
   "metadata": {},
   "outputs": [],
   "source": [
    "# Freestream = 4 deg\n",
    "# gap 1: 0.75\n",
    "L_bi4_1 = solve_biplane(panelS_bi_1, freestream_4, N)\n",
    "# gap 2: 1.00\n",
    "L_bi4_2 = solve_biplane(panelS_bi_2, freestream_4, N)\n",
    "# gap 3: 1.25\n",
    "L_bi4_3 = solve_biplane(panelS_bi_3, freestream_4, N)\n",
    "# gap 4: 1.50\n",
    "L_bi4_4 = solve_biplane(panelS_bi_4, freestream_4, N)\n",
    "\n",
    "# Freestream = 6 deg\n",
    "# gap 1: 0.75\n",
    "L_bi6_1 = solve_biplane(panelS_bi_1, freestream_6, N)\n",
    "# gap 2: 1.00\n",
    "L_bi6_2 = solve_biplane(panelS_bi_2, freestream_6, N)\n",
    "# gap 3: 1.25\n",
    "L_bi6_3 = solve_biplane(panelS_bi_3, freestream_6, N)\n",
    "# gap 4: 1.50\n",
    "L_bi6_4 = solve_biplane(panelS_bi_4, freestream_6, N)\n",
    "\n",
    "# Freestream = 8 deg\n",
    "# gap 1: 0.75\n",
    "L_bi8_1 = solve_biplane(panelS_bi_1, freestream_8, N)\n",
    "# gap 2: 1.00\n",
    "L_bi8_2 = solve_biplane(panelS_bi_2, freestream_8, N)\n",
    "# gap 3: 1.25\n",
    "L_bi8_3 = solve_biplane(panelS_bi_3, freestream_8, N)\n",
    "# gap 4: 1.50\n",
    "L_bi8_4 = solve_biplane(panelS_bi_4, freestream_8, N)\n",
    "\n",
    "# Freestream = 10 deg\n",
    "# gap 1: 0.75\n",
    "L_bi10_1 = solve_biplane(panelS_bi_1, freestream_10, N)\n",
    "# gap 2: 1.00\n",
    "L_bi10_2 = solve_biplane(panelS_bi_2, freestream_10, N)\n",
    "# gap 3: 1.25\n",
    "L_bi10_3 = solve_biplane(panelS_bi_3, freestream_10, N)\n",
    "# gap 4: 1.50\n",
    "L_bi10_4 = solve_biplane(panelS_bi_4, freestream_10, N)"
   ]
  },
  {
   "cell_type": "markdown",
   "metadata": {},
   "source": [
    "Now we need to find the lift for the monplane at all 4 angles of attack so that we can convert all of the lift values from the biplanes to percentages. To do this we'll use the same type of functions that we used for the biplane, but in this case we will only need one Kutta condition (as there is only one airfoil). The functions we'll be using will come from lesson 11, and can be found once again in helper.py."
   ]
  },
  {
   "cell_type": "code",
   "execution_count": 17,
   "metadata": {},
   "outputs": [],
   "source": [
    "#  find the lift of the monoplane at different angles of attack\n",
    "# freestream = 4 deg\n",
    "L_m4 = solve_monoplane(lower_panels_bi, freestream_4,N)\n",
    "# freestream = 6 deg\n",
    "L_m6 = solve_monoplane(lower_panels_bi, freestream_6,N)\n",
    "# freestream = 8 deg\n",
    "L_m8 = solve_monoplane(lower_panels_bi, freestream_8,N)\n",
    "# freestream = 10 deg\n",
    "L_m10 = solve_monoplane(lower_panels_bi, freestream_10,N)"
   ]
  },
  {
   "cell_type": "code",
   "execution_count": 18,
   "metadata": {},
   "outputs": [
    {
     "name": "stdout",
     "output_type": "stream",
     "text": [
      "0.45328490850695935 0.5915947454889062 0.7278999896419407 0.8615365755179015\n"
     ]
    }
   ],
   "source": [
    "print(L_m4,L_m6,L_m8,L_m10)"
   ]
  },
  {
   "cell_type": "markdown",
   "metadata": {},
   "source": []
  },
  {
   "cell_type": "markdown",
   "metadata": {},
   "source": [
    "Now that we have all of our data, we can put it in table format and compare it to the gap/chord vs lift table Grant provides."
   ]
  },
  {
   "cell_type": "code",
   "execution_count": 20,
   "metadata": {},
   "outputs": [
    {
     "data": {
      "text/html": [
       "<div>\n",
       "<style scoped>\n",
       "    .dataframe tbody tr th:only-of-type {\n",
       "        vertical-align: middle;\n",
       "    }\n",
       "\n",
       "    .dataframe tbody tr th {\n",
       "        vertical-align: top;\n",
       "    }\n",
       "\n",
       "    .dataframe thead tr th {\n",
       "        text-align: left;\n",
       "    }\n",
       "\n",
       "    .dataframe thead tr:last-of-type th {\n",
       "        text-align: right;\n",
       "    }\n",
       "</style>\n",
       "<table border=\"1\" class=\"dataframe\">\n",
       "  <thead>\n",
       "    <tr>\n",
       "      <th></th>\n",
       "      <th>AOA</th>\n",
       "      <th colspan=\"3\" halign=\"left\"></th>\n",
       "    </tr>\n",
       "    <tr>\n",
       "      <th></th>\n",
       "      <th>4 deg</th>\n",
       "      <th>6 deg</th>\n",
       "      <th>8 deg</th>\n",
       "      <th>10 deg</th>\n",
       "    </tr>\n",
       "    <tr>\n",
       "      <th>Gap/Chord</th>\n",
       "      <th></th>\n",
       "      <th></th>\n",
       "      <th></th>\n",
       "      <th></th>\n",
       "    </tr>\n",
       "  </thead>\n",
       "  <tbody>\n",
       "    <tr>\n",
       "      <th>0.75</th>\n",
       "      <td>0.702521</td>\n",
       "      <td>0.919001</td>\n",
       "      <td>1.132371</td>\n",
       "      <td>1.341593</td>\n",
       "    </tr>\n",
       "    <tr>\n",
       "      <th>1.00</th>\n",
       "      <td>0.758561</td>\n",
       "      <td>0.990148</td>\n",
       "      <td>1.218389</td>\n",
       "      <td>1.442173</td>\n",
       "    </tr>\n",
       "    <tr>\n",
       "      <th>1.25</th>\n",
       "      <td>0.796620</td>\n",
       "      <td>1.039096</td>\n",
       "      <td>1.278061</td>\n",
       "      <td>1.512350</td>\n",
       "    </tr>\n",
       "    <tr>\n",
       "      <th>1.50</th>\n",
       "      <td>0.822740</td>\n",
       "      <td>1.072973</td>\n",
       "      <td>1.319579</td>\n",
       "      <td>1.561357</td>\n",
       "    </tr>\n",
       "  </tbody>\n",
       "</table>\n",
       "</div>"
      ],
      "text/plain": [
       "                AOA                              \n",
       "              4 deg     6 deg     8 deg    10 deg\n",
       "Gap/Chord                                        \n",
       "0.75       0.702521  0.919001  1.132371  1.341593\n",
       "1.00       0.758561  0.990148  1.218389  1.442173\n",
       "1.25       0.796620  1.039096  1.278061  1.512350\n",
       "1.50       0.822740  1.072973  1.319579  1.561357"
      ]
     },
     "execution_count": 20,
     "metadata": {},
     "output_type": "execute_result"
    }
   ],
   "source": [
    "data = numpy.array([[L_bi4_1, L_bi6_1, L_bi8_1, L_bi10_1],\n",
    "                   [L_bi4_2, L_bi6_2, L_bi8_2, L_bi10_2],\n",
    "                   [L_bi4_3, L_bi6_3, L_bi8_3, L_bi10_3],\n",
    "                   [L_bi4_4, L_bi6_4, L_bi8_4, L_bi10_4]])\n",
    "row_header = ['0.75','1.00','1.25','1.50']\n",
    "column_header = ([['AOA','','',''],['4 deg','6 deg','8 deg','10 deg']])\n",
    "df = pandas.DataFrame(data, row_header, column_header)\n",
    "df.index.name = 'Gap/Chord'\n",
    "df"
   ]
  },
  {
   "cell_type": "code",
   "execution_count": null,
   "metadata": {},
   "outputs": [],
   "source": []
  }
 ],
 "metadata": {
  "kernelspec": {
   "display_name": "Python 3",
   "language": "python",
   "name": "python3"
  },
  "language_info": {
   "codemirror_mode": {
    "name": "ipython",
    "version": 3
   },
   "file_extension": ".py",
   "mimetype": "text/x-python",
   "name": "python",
   "nbconvert_exporter": "python",
   "pygments_lexer": "ipython3",
   "version": "3.6.2"
  }
 },
 "nbformat": 4,
 "nbformat_minor": 2
}
