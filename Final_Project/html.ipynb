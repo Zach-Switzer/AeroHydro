{
 "cells": [
  {
   "cell_type": "code",
   "execution_count": 7,
   "metadata": {},
   "outputs": [],
   "source": [
    "import nbconvert\n",
    "import nbformat\n",
    "\n",
    "with open('Monoplanes_Biplanes_and_Triplanes.ipynb') as nb_file:\n",
    "    nb_contents = nb_file.read()\n",
    "\n",
    "# Convert using the ordinary exporter\n",
    "notebook = nbformat.reads(nb_contents, as_version=4)\n",
    "exporter = nbconvert.HTMLExporter()\n",
    "body, res = exporter.from_notebook_node(notebook)\n",
    "\n",
    "# Create a dict mapping all image attachments to their base64 representations\n",
    "images = {}\n",
    "for cell in notebook['cells']:\n",
    "    if 'attachments' in cell:\n",
    "        attachments = cell['attachments']\n",
    "        for filename, attachment in attachments.items():\n",
    "            for mime, base64 in attachment.items():\n",
    "                images[f'attachment:{filename}'] = f'data:{mime};base64,{base64}'\n",
    "\n",
    "# Fix up the HTML and write it to disk\n",
    "for src, base64 in images.items():\n",
    "    body = body.replace(f'src=\"{src}\"', f'src=\"{base64}\"')\n",
    "with open('Monoplanes_Biplanes_and_Triplanes.html', 'w') as output_file:\n",
    "    output_file.write(body)"
   ]
  }
 ],
 "metadata": {
  "kernelspec": {
   "display_name": "Python 3",
   "language": "python",
   "name": "python3"
  },
  "language_info": {
   "codemirror_mode": {
    "name": "ipython",
    "version": 3
   },
   "file_extension": ".py",
   "mimetype": "text/x-python",
   "name": "python",
   "nbconvert_exporter": "python",
   "pygments_lexer": "ipython3",
   "version": "3.7.3"
  }
 },
 "nbformat": 4,
 "nbformat_minor": 2
}
